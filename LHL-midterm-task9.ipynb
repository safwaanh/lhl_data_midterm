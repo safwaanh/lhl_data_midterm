{
 "cells": [
  {
   "cell_type": "markdown",
   "metadata": {},
   "source": [
    "#### **Task 9**: Find the top 10 the bussiest airports. Does the biggest number of flights mean that the biggest number of passengers went through the particular airport? How much traffic do these 10 airports cover?"
   ]
  },
  {
   "cell_type": "code",
   "execution_count": 1,
   "metadata": {},
   "outputs": [],
   "source": [
    "import pandas as pd\n",
    "import numpy as np\n",
    "import matplotlib.pyplot as plt\n",
    "%matplotlib inline"
   ]
  },
  {
   "cell_type": "code",
   "execution_count": 2,
   "metadata": {},
   "outputs": [
    {
     "data": {
      "text/plain": [
       "(15927485, 42)"
      ]
     },
     "execution_count": 2,
     "metadata": {},
     "output_type": "execute_result"
    }
   ],
   "source": [
    "#import flights table\n",
    "flights = pd.read_csv('flights.csv', low_memory=False)\n",
    "flights.shape"
   ]
  },
  {
   "cell_type": "code",
   "execution_count": 3,
   "metadata": {
    "jupyter": {
     "source_hidden": true
    }
   },
   "outputs": [],
   "source": [
    "# select 1000 random rows to use for testing \n",
    "flights_sample = flights.sample(n=1000)"
   ]
  },
  {
   "cell_type": "code",
   "execution_count": 4,
   "metadata": {},
   "outputs": [],
   "source": [
    "flights_sample = flights_sample[(flights_sample['dep_delay'].isna() != True)] \n",
    "flights_sample = flights_sample[(flights_sample['dep_delay'] < 1000)] \n",
    "flights_sample = flights_sample[(flights_sample['diverted']!=1) | (flights_sample['cancelled']!=1)]\n",
    "flights_sample = flights_sample[(flights_sample['arr_delay'].isna() != True)] \n",
    "flights_sample = flights_sample[(flights_sample['air_time'].isna() != True)] "
   ]
  },
  {
   "cell_type": "code",
   "execution_count": 43,
   "metadata": {},
   "outputs": [],
   "source": [
    "top_airports = flights.groupby('origin')['fl_date'].count().reset_index(name='count').sort_values(['count'], ascending=False)\n",
    "top_airports = top_airports.reset_index(drop=True)\n",
    "top_10_airports = top_airports.head(10)"
   ]
  },
  {
   "cell_type": "code",
   "execution_count": 44,
   "metadata": {},
   "outputs": [],
   "source": [
    "passengers = pd.read_csv('passengers.csv')"
   ]
  },
  {
   "cell_type": "code",
   "execution_count": 48,
   "metadata": {},
   "outputs": [],
   "source": [
    "top_passengers = passengers.groupby('origin')['passengers'].sum().reset_index(name='count').sort_values(['count'], ascending=False)\n",
    "top_passengers = top_passengers.reset_index(drop=True)\n",
    "top_10_passengers = top_passengers.head(10)"
   ]
  },
  {
   "cell_type": "markdown",
   "metadata": {},
   "source": [
    "### The airports with the highest numbers of flights do not also share the highest number of passengers."
   ]
  },
  {
   "cell_type": "code",
   "execution_count": 49,
   "metadata": {},
   "outputs": [
    {
     "data": {
      "text/html": [
       "<div>\n",
       "<style scoped>\n",
       "    .dataframe tbody tr th:only-of-type {\n",
       "        vertical-align: middle;\n",
       "    }\n",
       "\n",
       "    .dataframe tbody tr th {\n",
       "        vertical-align: top;\n",
       "    }\n",
       "\n",
       "    .dataframe thead th {\n",
       "        text-align: right;\n",
       "    }\n",
       "</style>\n",
       "<table border=\"1\" class=\"dataframe\">\n",
       "  <thead>\n",
       "    <tr style=\"text-align: right;\">\n",
       "      <th></th>\n",
       "      <th>origin</th>\n",
       "      <th>total_flights</th>\n",
       "      <th>total_passengers</th>\n",
       "    </tr>\n",
       "  </thead>\n",
       "  <tbody>\n",
       "    <tr>\n",
       "      <th>0</th>\n",
       "      <td>ORD</td>\n",
       "      <td>790253</td>\n",
       "      <td>194019087</td>\n",
       "    </tr>\n",
       "    <tr>\n",
       "      <th>1</th>\n",
       "      <td>ATL</td>\n",
       "      <td>785850</td>\n",
       "      <td>257478059</td>\n",
       "    </tr>\n",
       "    <tr>\n",
       "      <th>2</th>\n",
       "      <td>DFW</td>\n",
       "      <td>584688</td>\n",
       "      <td>163888490</td>\n",
       "    </tr>\n",
       "    <tr>\n",
       "      <th>3</th>\n",
       "      <td>DEN</td>\n",
       "      <td>552134</td>\n",
       "      <td>151024252</td>\n",
       "    </tr>\n",
       "    <tr>\n",
       "      <th>4</th>\n",
       "      <td>CLT</td>\n",
       "      <td>501557</td>\n",
       "      <td>112838675</td>\n",
       "    </tr>\n",
       "    <tr>\n",
       "      <th>5</th>\n",
       "      <td>LAX</td>\n",
       "      <td>500840</td>\n",
       "      <td>205745255</td>\n",
       "    </tr>\n",
       "    <tr>\n",
       "      <th>6</th>\n",
       "      <td>SEA</td>\n",
       "      <td>379367</td>\n",
       "      <td>113960665</td>\n",
       "    </tr>\n",
       "    <tr>\n",
       "      <th>7</th>\n",
       "      <td>SFO</td>\n",
       "      <td>357626</td>\n",
       "      <td>133266076</td>\n",
       "    </tr>\n",
       "    <tr>\n",
       "      <th>8</th>\n",
       "      <td>PHX</td>\n",
       "      <td>355485</td>\n",
       "      <td>109444579</td>\n",
       "    </tr>\n",
       "    <tr>\n",
       "      <th>9</th>\n",
       "      <td>IAH</td>\n",
       "      <td>354379</td>\n",
       "      <td>103908868</td>\n",
       "    </tr>\n",
       "  </tbody>\n",
       "</table>\n",
       "</div>"
      ],
      "text/plain": [
       "  origin  total_flights  total_passengers\n",
       "0    ORD         790253         194019087\n",
       "1    ATL         785850         257478059\n",
       "2    DFW         584688         163888490\n",
       "3    DEN         552134         151024252\n",
       "4    CLT         501557         112838675\n",
       "5    LAX         500840         205745255\n",
       "6    SEA         379367         113960665\n",
       "7    SFO         357626         133266076\n",
       "8    PHX         355485         109444579\n",
       "9    IAH         354379         103908868"
      ]
     },
     "execution_count": 49,
     "metadata": {},
     "output_type": "execute_result"
    }
   ],
   "source": [
    "top = pd.merge(top_airports, top_passengers, on='origin')\n",
    "top = top.rename(columns={'count_x':'total_flights','count_y':'total_passengers'})\n",
    "top10 = top.head(10)\n",
    "top10"
   ]
  },
  {
   "cell_type": "code",
   "execution_count": 51,
   "metadata": {},
   "outputs": [
    {
     "name": "stdout",
     "output_type": "stream",
     "text": [
      "The Top 10 Airports handle 32.4% of all flights and 35.5% of all passengers\n",
      "The Top 10 Passenger Airports handle 32.4% of all passengers\n"
     ]
    }
   ],
   "source": [
    "flights_pct = (top_10_airports['count'].sum()/flights['fl_date'].count())*100\n",
    "pass_pct = (top_10_passengers['count'].sum()/passengers['passengers'].sum())*100\n",
    "busy_pct = (top10['total_passengers'].sum()/top['total_passengers'].sum())*100\n",
    "\n",
    "print(f\"The Top 10 Airports handle {round(flights_pct,1)}% of all flights and {round(busy_pct,1)}% of all passengers\")\n",
    "print(f\"The Top 10 Passenger Airports handle {round(pass_pct,1)}% of all passengers\")"
   ]
  },
  {
   "cell_type": "code",
   "execution_count": 36,
   "metadata": {},
   "outputs": [
    {
     "data": {
      "text/html": [
       "<div>\n",
       "<style scoped>\n",
       "    .dataframe tbody tr th:only-of-type {\n",
       "        vertical-align: middle;\n",
       "    }\n",
       "\n",
       "    .dataframe tbody tr th {\n",
       "        vertical-align: top;\n",
       "    }\n",
       "\n",
       "    .dataframe thead th {\n",
       "        text-align: right;\n",
       "    }\n",
       "</style>\n",
       "<table border=\"1\" class=\"dataframe\">\n",
       "  <thead>\n",
       "    <tr style=\"text-align: right;\">\n",
       "      <th></th>\n",
       "      <th>origin</th>\n",
       "      <th>total_flights</th>\n",
       "      <th>total_passengers</th>\n",
       "    </tr>\n",
       "  </thead>\n",
       "  <tbody>\n",
       "    <tr>\n",
       "      <th>0</th>\n",
       "      <td>ORD</td>\n",
       "      <td>790253</td>\n",
       "      <td>194019087</td>\n",
       "    </tr>\n",
       "    <tr>\n",
       "      <th>1</th>\n",
       "      <td>ATL</td>\n",
       "      <td>785850</td>\n",
       "      <td>257478059</td>\n",
       "    </tr>\n",
       "    <tr>\n",
       "      <th>2</th>\n",
       "      <td>DFW</td>\n",
       "      <td>584688</td>\n",
       "      <td>163888490</td>\n",
       "    </tr>\n",
       "    <tr>\n",
       "      <th>3</th>\n",
       "      <td>DEN</td>\n",
       "      <td>552134</td>\n",
       "      <td>151024252</td>\n",
       "    </tr>\n",
       "    <tr>\n",
       "      <th>4</th>\n",
       "      <td>CLT</td>\n",
       "      <td>501557</td>\n",
       "      <td>112838675</td>\n",
       "    </tr>\n",
       "    <tr>\n",
       "      <th>5</th>\n",
       "      <td>LAX</td>\n",
       "      <td>500840</td>\n",
       "      <td>205745255</td>\n",
       "    </tr>\n",
       "    <tr>\n",
       "      <th>6</th>\n",
       "      <td>SEA</td>\n",
       "      <td>379367</td>\n",
       "      <td>113960665</td>\n",
       "    </tr>\n",
       "    <tr>\n",
       "      <th>7</th>\n",
       "      <td>SFO</td>\n",
       "      <td>357626</td>\n",
       "      <td>133266076</td>\n",
       "    </tr>\n",
       "    <tr>\n",
       "      <th>8</th>\n",
       "      <td>PHX</td>\n",
       "      <td>355485</td>\n",
       "      <td>109444579</td>\n",
       "    </tr>\n",
       "    <tr>\n",
       "      <th>9</th>\n",
       "      <td>IAH</td>\n",
       "      <td>354379</td>\n",
       "      <td>103908868</td>\n",
       "    </tr>\n",
       "  </tbody>\n",
       "</table>\n",
       "</div>"
      ],
      "text/plain": [
       "  origin  total_flights  total_passengers\n",
       "0    ORD         790253         194019087\n",
       "1    ATL         785850         257478059\n",
       "2    DFW         584688         163888490\n",
       "3    DEN         552134         151024252\n",
       "4    CLT         501557         112838675\n",
       "5    LAX         500840         205745255\n",
       "6    SEA         379367         113960665\n",
       "7    SFO         357626         133266076\n",
       "8    PHX         355485         109444579\n",
       "9    IAH         354379         103908868"
      ]
     },
     "execution_count": 36,
     "metadata": {},
     "output_type": "execute_result"
    }
   ],
   "source": [
    "top"
   ]
  },
  {
   "cell_type": "code",
   "execution_count": null,
   "metadata": {},
   "outputs": [],
   "source": []
  }
 ],
 "metadata": {
  "kernelspec": {
   "display_name": "Python 3",
   "language": "python",
   "name": "python3"
  },
  "language_info": {
   "codemirror_mode": {
    "name": "ipython",
    "version": 3
   },
   "file_extension": ".py",
   "mimetype": "text/x-python",
   "name": "python",
   "nbconvert_exporter": "python",
   "pygments_lexer": "ipython3",
   "version": "3.7.6"
  }
 },
 "nbformat": 4,
 "nbformat_minor": 4
}
