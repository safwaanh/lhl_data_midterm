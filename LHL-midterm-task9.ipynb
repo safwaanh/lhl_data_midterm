{
 "cells": [
  {
   "cell_type": "markdown",
   "metadata": {},
   "source": [
    "#### **Task 9**: Find the top 10 the bussiest airports. Does the biggest number of flights mean that the biggest number of passengers went through the particular airport? How much traffic do these 10 airports cover?"
   ]
  },
  {
   "cell_type": "code",
   "execution_count": 44,
   "metadata": {},
   "outputs": [],
   "source": [
    "import pandas as pd\n",
    "import numpy as np\n",
    "import matplotlib.pyplot as plt\n",
    "import seaborn as sns\n",
    "%matplotlib inline"
   ]
  },
  {
   "cell_type": "code",
   "execution_count": 35,
   "metadata": {},
   "outputs": [
    {
     "data": {
      "text/plain": [
       "(15927485, 42)"
      ]
     },
     "execution_count": 35,
     "metadata": {},
     "output_type": "execute_result"
    }
   ],
   "source": [
    "#import flights table\n",
    "flights = pd.read_pickle('flights.pkl')\n",
    "flights.shape"
   ]
  },
  {
   "cell_type": "code",
   "execution_count": 4,
   "metadata": {
    "jupyter": {
     "source_hidden": true
    }
   },
   "outputs": [],
   "source": [
    "# select 1000 random rows to use for testing \n",
    "flights_sample = flights.sample(n=1000)"
   ]
  },
  {
   "cell_type": "code",
   "execution_count": 36,
   "metadata": {},
   "outputs": [],
   "source": [
    "flights_sample = flights_sample[(flights_sample['dep_delay'].isna() != True)] \n",
    "flights_sample = flights_sample[(flights_sample['dep_delay'] < 1000)] \n",
    "flights_sample = flights_sample[(flights_sample['diverted']!=1) | (flights_sample['cancelled']!=1)]\n",
    "flights_sample = flights_sample[(flights_sample['arr_delay'].isna() != True)] \n",
    "flights_sample = flights_sample[(flights_sample['air_time'].isna() != True)] "
   ]
  },
  {
   "cell_type": "code",
   "execution_count": 37,
   "metadata": {},
   "outputs": [],
   "source": [
    "top_airports = flights.groupby('origin')['fl_date'].count().reset_index(name='count').sort_values(['count'], ascending=False)\n",
    "top_airports = top_airports.reset_index(drop=True)\n",
    "top_10_airports = top_airports.head(10)"
   ]
  },
  {
   "cell_type": "code",
   "execution_count": 38,
   "metadata": {},
   "outputs": [],
   "source": [
    "passengers = pd.read_csv('passengers.csv')"
   ]
  },
  {
   "cell_type": "code",
   "execution_count": 66,
   "metadata": {},
   "outputs": [
    {
     "data": {
      "text/html": [
       "<div>\n",
       "<style scoped>\n",
       "    .dataframe tbody tr th:only-of-type {\n",
       "        vertical-align: middle;\n",
       "    }\n",
       "\n",
       "    .dataframe tbody tr th {\n",
       "        vertical-align: top;\n",
       "    }\n",
       "\n",
       "    .dataframe thead th {\n",
       "        text-align: right;\n",
       "    }\n",
       "</style>\n",
       "<table border=\"1\" class=\"dataframe\">\n",
       "  <thead>\n",
       "    <tr style=\"text-align: right;\">\n",
       "      <th></th>\n",
       "      <th>origin</th>\n",
       "      <th>count</th>\n",
       "    </tr>\n",
       "  </thead>\n",
       "  <tbody>\n",
       "    <tr>\n",
       "      <th>0</th>\n",
       "      <td>ATL</td>\n",
       "      <td>257478059</td>\n",
       "    </tr>\n",
       "    <tr>\n",
       "      <th>1</th>\n",
       "      <td>LAX</td>\n",
       "      <td>205745255</td>\n",
       "    </tr>\n",
       "    <tr>\n",
       "      <th>2</th>\n",
       "      <td>ORD</td>\n",
       "      <td>194019087</td>\n",
       "    </tr>\n",
       "    <tr>\n",
       "      <th>3</th>\n",
       "      <td>DFW</td>\n",
       "      <td>163888490</td>\n",
       "    </tr>\n",
       "    <tr>\n",
       "      <th>4</th>\n",
       "      <td>DEN</td>\n",
       "      <td>151024252</td>\n",
       "    </tr>\n",
       "    <tr>\n",
       "      <th>5</th>\n",
       "      <td>JFK</td>\n",
       "      <td>148927079</td>\n",
       "    </tr>\n",
       "    <tr>\n",
       "      <th>6</th>\n",
       "      <td>SFO</td>\n",
       "      <td>133266076</td>\n",
       "    </tr>\n",
       "    <tr>\n",
       "      <th>7</th>\n",
       "      <td>LAS</td>\n",
       "      <td>117526251</td>\n",
       "    </tr>\n",
       "    <tr>\n",
       "      <th>8</th>\n",
       "      <td>SEA</td>\n",
       "      <td>113960665</td>\n",
       "    </tr>\n",
       "    <tr>\n",
       "      <th>9</th>\n",
       "      <td>CLT</td>\n",
       "      <td>112838675</td>\n",
       "    </tr>\n",
       "  </tbody>\n",
       "</table>\n",
       "</div>"
      ],
      "text/plain": [
       "  origin      count\n",
       "0    ATL  257478059\n",
       "1    LAX  205745255\n",
       "2    ORD  194019087\n",
       "3    DFW  163888490\n",
       "4    DEN  151024252\n",
       "5    JFK  148927079\n",
       "6    SFO  133266076\n",
       "7    LAS  117526251\n",
       "8    SEA  113960665\n",
       "9    CLT  112838675"
      ]
     },
     "execution_count": 66,
     "metadata": {},
     "output_type": "execute_result"
    }
   ],
   "source": [
    "top_passengers = passengers.groupby('origin')['passengers'].sum().reset_index(name='count').sort_values(['count'], ascending=False)\n",
    "top_passengers = top_passengers.reset_index(drop=True)\n",
    "top_10_passengers = top_passengers.head(10)\n",
    "top_10_passengers"
   ]
  },
  {
   "cell_type": "markdown",
   "metadata": {},
   "source": [
    "### The airports with the highest numbers of flights do not also share the highest number of passengers."
   ]
  },
  {
   "cell_type": "code",
   "execution_count": 40,
   "metadata": {},
   "outputs": [
    {
     "data": {
      "text/html": [
       "<div>\n",
       "<style scoped>\n",
       "    .dataframe tbody tr th:only-of-type {\n",
       "        vertical-align: middle;\n",
       "    }\n",
       "\n",
       "    .dataframe tbody tr th {\n",
       "        vertical-align: top;\n",
       "    }\n",
       "\n",
       "    .dataframe thead th {\n",
       "        text-align: right;\n",
       "    }\n",
       "</style>\n",
       "<table border=\"1\" class=\"dataframe\">\n",
       "  <thead>\n",
       "    <tr style=\"text-align: right;\">\n",
       "      <th></th>\n",
       "      <th>origin</th>\n",
       "      <th>total_flights</th>\n",
       "      <th>total_passengers</th>\n",
       "    </tr>\n",
       "  </thead>\n",
       "  <tbody>\n",
       "    <tr>\n",
       "      <th>0</th>\n",
       "      <td>ORD</td>\n",
       "      <td>790253</td>\n",
       "      <td>194019087</td>\n",
       "    </tr>\n",
       "    <tr>\n",
       "      <th>1</th>\n",
       "      <td>ATL</td>\n",
       "      <td>785850</td>\n",
       "      <td>257478059</td>\n",
       "    </tr>\n",
       "    <tr>\n",
       "      <th>2</th>\n",
       "      <td>DFW</td>\n",
       "      <td>584688</td>\n",
       "      <td>163888490</td>\n",
       "    </tr>\n",
       "    <tr>\n",
       "      <th>3</th>\n",
       "      <td>DEN</td>\n",
       "      <td>552134</td>\n",
       "      <td>151024252</td>\n",
       "    </tr>\n",
       "    <tr>\n",
       "      <th>4</th>\n",
       "      <td>CLT</td>\n",
       "      <td>501557</td>\n",
       "      <td>112838675</td>\n",
       "    </tr>\n",
       "    <tr>\n",
       "      <th>5</th>\n",
       "      <td>LAX</td>\n",
       "      <td>500840</td>\n",
       "      <td>205745255</td>\n",
       "    </tr>\n",
       "    <tr>\n",
       "      <th>6</th>\n",
       "      <td>SEA</td>\n",
       "      <td>379367</td>\n",
       "      <td>113960665</td>\n",
       "    </tr>\n",
       "    <tr>\n",
       "      <th>7</th>\n",
       "      <td>SFO</td>\n",
       "      <td>357626</td>\n",
       "      <td>133266076</td>\n",
       "    </tr>\n",
       "    <tr>\n",
       "      <th>8</th>\n",
       "      <td>PHX</td>\n",
       "      <td>355485</td>\n",
       "      <td>109444579</td>\n",
       "    </tr>\n",
       "    <tr>\n",
       "      <th>9</th>\n",
       "      <td>IAH</td>\n",
       "      <td>354379</td>\n",
       "      <td>103908868</td>\n",
       "    </tr>\n",
       "  </tbody>\n",
       "</table>\n",
       "</div>"
      ],
      "text/plain": [
       "  origin  total_flights  total_passengers\n",
       "0    ORD         790253         194019087\n",
       "1    ATL         785850         257478059\n",
       "2    DFW         584688         163888490\n",
       "3    DEN         552134         151024252\n",
       "4    CLT         501557         112838675\n",
       "5    LAX         500840         205745255\n",
       "6    SEA         379367         113960665\n",
       "7    SFO         357626         133266076\n",
       "8    PHX         355485         109444579\n",
       "9    IAH         354379         103908868"
      ]
     },
     "execution_count": 40,
     "metadata": {},
     "output_type": "execute_result"
    }
   ],
   "source": [
    "top = pd.merge(top_airports, top_passengers, on='origin')\n",
    "top = top.rename(columns={'count_x':'total_flights','count_y':'total_passengers'})\n",
    "top10 = top.head(10)\n",
    "top10"
   ]
  },
  {
   "cell_type": "code",
   "execution_count": 65,
   "metadata": {},
   "outputs": [
    {
     "data": {
      "text/plain": [
       "Text(0, 0.5, 'Airport')"
      ]
     },
     "execution_count": 65,
     "metadata": {},
     "output_type": "execute_result"
    },
    {
     "data": {
      "image/png": "[encoded data removed]",
      "text/plain": [
       "<Figure size 360x576 with 1 Axes>"
      ]
     },
     "metadata": {
      "needs_background": "light"
     },
     "output_type": "display_data"
    }
   ],
   "source": [
    "sns.color_palette('autumn')\n",
    "plt.figure(figsize=(5,8))\n",
    "ax = sns.barplot(x=top10['total_flights']/1000,y=top10['origin'], palette=(\"autumn\"))\n",
    "ax.set_xlabel('Total Flights (1000s)')\n",
    "ax.set_ylabel('Airport')\n"
   ]
  },
  {
   "cell_type": "code",
   "execution_count": 58,
   "metadata": {},
   "outputs": [
    {
     "data": {
      "text/plain": [
       "Text(0, 0.5, 'Airport')"
      ]
     },
     "execution_count": 58,
     "metadata": {},
     "output_type": "execute_result"
    },
    {
     "data": {
      "image/png": "[encoded data removed]",
      "text/plain": [
       "<Figure size 360x576 with 1 Axes>"
      ]
     },
     "metadata": {
      "needs_background": "light"
     },
     "output_type": "display_data"
    }
   ],
   "source": [
    "sns.color_palette('autumn')\n",
    "plt.figure(figsize=(5,8))\n",
    "ax = sns.barplot(x=top10['total_passengers']/1000000,y=top10['origin'], palette=(\"autumn\"))\n",
    "ax.set_xlabel('Total Passengers (MM)')\n",
    "ax.set_ylabel('Airport')"
   ]
  },
  {
   "cell_type": "code",
   "execution_count": 41,
   "metadata": {},
   "outputs": [
    {
     "name": "stdout",
     "output_type": "stream",
     "text": [
      "The Top 10 Airports handle 32.4% of all flights and 35.5% of all passengers\n",
      "The Top 10 Passenger Airports handle 32.4% of all passengers\n"
     ]
    }
   ],
   "source": [
    "flights_pct = (top_10_airports['count'].sum()/flights['fl_date'].count())*100\n",
    "pass_pct = (top_10_passengers['count'].sum()/passengers['passengers'].sum())*100\n",
    "busy_pct = (top10['total_passengers'].sum()/top['total_passengers'].sum())*100\n",
    "\n",
    "print(f\"The Top 10 Airports handle {round(flights_pct,1)}% of all flights and {round(busy_pct,1)}% of all passengers\")\n",
    "print(f\"The Top 10 Passenger Airports handle {round(pass_pct,1)}% of all passengers\")"
   ]
  },
  {
   "cell_type": "code",
   "execution_count": 42,
   "metadata": {},
   "outputs": [],
   "source": [
    "avg_airport_passengers = passengers.groupby('airline_id')['passengers'].mean().reset_index()\n",
    "avg_carrier_passengers = passengers.groupby('unique_carrier')['passengers'].mean().reset_index()"
   ]
  },
  {
   "cell_type": "code",
   "execution_count": 43,
   "metadata": {},
   "outputs": [],
   "source": [
    "avg_airport_passengers.to_csv('avg_airport_passengers.csv', index=False)\n",
    "avg_carrier_passengers.to_csv('avg_carrier_passengers.csv', index=False)"
   ]
  },
  {
   "cell_type": "code",
   "execution_count": 69,
   "metadata": {},
   "outputs": [],
   "source": [
    "top['passengers_per_flight'] = top['total_passengers']/top['total_flights']"
   ]
  },
  {
   "cell_type": "code",
   "execution_count": 76,
   "metadata": {},
   "outputs": [],
   "source": [
    "top.sort_values(by=['passengers_per_flight'], inplace=True, ascending=False)"
   ]
  },
  {
   "cell_type": "code",
   "execution_count": 77,
   "metadata": {},
   "outputs": [
    {
     "data": {
      "text/html": [
       "<div>\n",
       "<style scoped>\n",
       "    .dataframe tbody tr th:only-of-type {\n",
       "        vertical-align: middle;\n",
       "    }\n",
       "\n",
       "    .dataframe tbody tr th {\n",
       "        vertical-align: top;\n",
       "    }\n",
       "\n",
       "    .dataframe thead th {\n",
       "        text-align: right;\n",
       "    }\n",
       "</style>\n",
       "<table border=\"1\" class=\"dataframe\">\n",
       "  <thead>\n",
       "    <tr style=\"text-align: right;\">\n",
       "      <th></th>\n",
       "      <th>origin</th>\n",
       "      <th>total_flights</th>\n",
       "      <th>total_passengers</th>\n",
       "      <th>passengers per flight</th>\n",
       "      <th>passengers_per_flight</th>\n",
       "    </tr>\n",
       "  </thead>\n",
       "  <tbody>\n",
       "    <tr>\n",
       "      <th>375</th>\n",
       "      <td>YNG</td>\n",
       "      <td>2</td>\n",
       "      <td>160579</td>\n",
       "      <td>80289.500000</td>\n",
       "      <td>80289.500000</td>\n",
       "    </tr>\n",
       "    <tr>\n",
       "      <th>374</th>\n",
       "      <td>IFP</td>\n",
       "      <td>45</td>\n",
       "      <td>606450</td>\n",
       "      <td>13476.666667</td>\n",
       "      <td>13476.666667</td>\n",
       "    </tr>\n",
       "    <tr>\n",
       "      <th>265</th>\n",
       "      <td>GUM</td>\n",
       "      <td>2217</td>\n",
       "      <td>7643029</td>\n",
       "      <td>3447.464592</td>\n",
       "      <td>3447.464592</td>\n",
       "    </tr>\n",
       "    <tr>\n",
       "      <th>373</th>\n",
       "      <td>AKN</td>\n",
       "      <td>124</td>\n",
       "      <td>234027</td>\n",
       "      <td>1887.314516</td>\n",
       "      <td>1887.314516</td>\n",
       "    </tr>\n",
       "    <tr>\n",
       "      <th>305</th>\n",
       "      <td>SPN</td>\n",
       "      <td>1485</td>\n",
       "      <td>2566115</td>\n",
       "      <td>1728.023569</td>\n",
       "      <td>1728.023569</td>\n",
       "    </tr>\n",
       "    <tr>\n",
       "      <th>364</th>\n",
       "      <td>PPG</td>\n",
       "      <td>242</td>\n",
       "      <td>358960</td>\n",
       "      <td>1483.305785</td>\n",
       "      <td>1483.305785</td>\n",
       "    </tr>\n",
       "    <tr>\n",
       "      <th>369</th>\n",
       "      <td>DLG</td>\n",
       "      <td>166</td>\n",
       "      <td>172669</td>\n",
       "      <td>1040.174699</td>\n",
       "      <td>1040.174699</td>\n",
       "    </tr>\n",
       "    <tr>\n",
       "      <th>368</th>\n",
       "      <td>HYA</td>\n",
       "      <td>172</td>\n",
       "      <td>163920</td>\n",
       "      <td>953.023256</td>\n",
       "      <td>953.023256</td>\n",
       "    </tr>\n",
       "    <tr>\n",
       "      <th>25</th>\n",
       "      <td>MIA</td>\n",
       "      <td>177075</td>\n",
       "      <td>105306021</td>\n",
       "      <td>594.697281</td>\n",
       "      <td>594.697281</td>\n",
       "    </tr>\n",
       "    <tr>\n",
       "      <th>19</th>\n",
       "      <td>JFK</td>\n",
       "      <td>257214</td>\n",
       "      <td>148927079</td>\n",
       "      <td>579.000673</td>\n",
       "      <td>579.000673</td>\n",
       "    </tr>\n",
       "    <tr>\n",
       "      <th>372</th>\n",
       "      <td>ROP</td>\n",
       "      <td>151</td>\n",
       "      <td>78910</td>\n",
       "      <td>522.582781</td>\n",
       "      <td>522.582781</td>\n",
       "    </tr>\n",
       "    <tr>\n",
       "      <th>281</th>\n",
       "      <td>STX</td>\n",
       "      <td>2018</td>\n",
       "      <td>1016069</td>\n",
       "      <td>503.502973</td>\n",
       "      <td>503.502973</td>\n",
       "    </tr>\n",
       "    <tr>\n",
       "      <th>366</th>\n",
       "      <td>OWB</td>\n",
       "      <td>210</td>\n",
       "      <td>102923</td>\n",
       "      <td>490.109524</td>\n",
       "      <td>490.109524</td>\n",
       "    </tr>\n",
       "    <tr>\n",
       "      <th>191</th>\n",
       "      <td>STT</td>\n",
       "      <td>6284</td>\n",
       "      <td>3069957</td>\n",
       "      <td>488.535487</td>\n",
       "      <td>488.535487</td>\n",
       "    </tr>\n",
       "    <tr>\n",
       "      <th>292</th>\n",
       "      <td>BET</td>\n",
       "      <td>1662</td>\n",
       "      <td>787176</td>\n",
       "      <td>473.631769</td>\n",
       "      <td>473.631769</td>\n",
       "    </tr>\n",
       "    <tr>\n",
       "      <th>39</th>\n",
       "      <td>HNL</td>\n",
       "      <td>109709</td>\n",
       "      <td>49633077</td>\n",
       "      <td>452.406612</td>\n",
       "      <td>452.406612</td>\n",
       "    </tr>\n",
       "    <tr>\n",
       "      <th>188</th>\n",
       "      <td>ACY</td>\n",
       "      <td>6387</td>\n",
       "      <td>2812799</td>\n",
       "      <td>440.394395</td>\n",
       "      <td>440.394395</td>\n",
       "    </tr>\n",
       "    <tr>\n",
       "      <th>360</th>\n",
       "      <td>SMX</td>\n",
       "      <td>363</td>\n",
       "      <td>156024</td>\n",
       "      <td>429.818182</td>\n",
       "      <td>429.818182</td>\n",
       "    </tr>\n",
       "    <tr>\n",
       "      <th>62</th>\n",
       "      <td>SJU</td>\n",
       "      <td>51329</td>\n",
       "      <td>21449822</td>\n",
       "      <td>417.888952</td>\n",
       "      <td>417.888952</td>\n",
       "    </tr>\n",
       "    <tr>\n",
       "      <th>5</th>\n",
       "      <td>LAX</td>\n",
       "      <td>500840</td>\n",
       "      <td>205745255</td>\n",
       "      <td>410.800365</td>\n",
       "      <td>410.800365</td>\n",
       "    </tr>\n",
       "  </tbody>\n",
       "</table>\n",
       "</div>"
      ],
      "text/plain": [
       "    origin  total_flights  total_passengers  passengers per flight  \\\n",
       "375    YNG              2            160579           80289.500000   \n",
       "374    IFP             45            606450           13476.666667   \n",
       "265    GUM           2217           7643029            3447.464592   \n",
       "373    AKN            124            234027            1887.314516   \n",
       "305    SPN           1485           2566115            1728.023569   \n",
       "364    PPG            242            358960            1483.305785   \n",
       "369    DLG            166            172669            1040.174699   \n",
       "368    HYA            172            163920             953.023256   \n",
       "25     MIA         177075         105306021             594.697281   \n",
       "19     JFK         257214         148927079             579.000673   \n",
       "372    ROP            151             78910             522.582781   \n",
       "281    STX           2018           1016069             503.502973   \n",
       "366    OWB            210            102923             490.109524   \n",
       "191    STT           6284           3069957             488.535487   \n",
       "292    BET           1662            787176             473.631769   \n",
       "39     HNL         109709          49633077             452.406612   \n",
       "188    ACY           6387           2812799             440.394395   \n",
       "360    SMX            363            156024             429.818182   \n",
       "62     SJU          51329          21449822             417.888952   \n",
       "5      LAX         500840         205745255             410.800365   \n",
       "\n",
       "     passengers_per_flight  \n",
       "375           80289.500000  \n",
       "374           13476.666667  \n",
       "265            3447.464592  \n",
       "373            1887.314516  \n",
       "305            1728.023569  \n",
       "364            1483.305785  \n",
       "369            1040.174699  \n",
       "368             953.023256  \n",
       "25              594.697281  \n",
       "19              579.000673  \n",
       "372             522.582781  \n",
       "281             503.502973  \n",
       "366             490.109524  \n",
       "191             488.535487  \n",
       "292             473.631769  \n",
       "39              452.406612  \n",
       "188             440.394395  \n",
       "360             429.818182  \n",
       "62              417.888952  \n",
       "5               410.800365  "
      ]
     },
     "execution_count": 77,
     "metadata": {},
     "output_type": "execute_result"
    }
   ],
   "source": [
    "top.head(20)"
   ]
  },
  {
   "cell_type": "code",
   "execution_count": null,
   "metadata": {},
   "outputs": [],
   "source": []
  }
 ],
 "metadata": {
  "kernelspec": {
   "display_name": "Python 3",
   "language": "python",
   "name": "python3"
  },
  "language_info": {
   "codemirror_mode": {
    "name": "ipython",
    "version": 3
   },
   "file_extension": ".py",
   "mimetype": "text/x-python",
   "name": "python",
   "nbconvert_exporter": "python",
   "pygments_lexer": "ipython3",
   "version": "3.7.6"
  }
 },
 "nbformat": 4,
 "nbformat_minor": 4
}
