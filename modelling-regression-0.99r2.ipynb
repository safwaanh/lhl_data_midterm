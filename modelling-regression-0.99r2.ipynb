{
 "cells": [
  {
   "cell_type": "code",
   "execution_count": 1,
   "metadata": {
    "ExecuteTime": {
     "end_time": "2020-08-30T01:23:17.420981Z",
     "start_time": "2020-08-30T01:23:06.101381Z"
    }
   },
   "outputs": [],
   "source": [
    "import pandas as pd\n",
    "import matplotlib.pyplot as plt\n",
    "import seaborn as sns\n",
    "import numpy as np\n",
    "from copy import deepcopy\n",
    "pd.set_option('display.max_columns', None)\n",
    "pd.options.mode.chained_assignment = None\n",
    "from sklearn.preprocessing import MinMaxScaler\n",
    "from sklearn.preprocessing import StandardScaler\n",
    "from sklearn.preprocessing import LabelEncoder\n",
    "from sklearn.model_selection import train_test_split\n",
    "\n",
    "from sklearn.linear_model import LinearRegression\n",
    "\n",
    "import statsmodels.api as sm"
   ]
  },
  {
   "cell_type": "code",
   "execution_count": 2,
   "metadata": {
    "ExecuteTime": {
     "end_time": "2020-08-30T01:26:07.326906Z",
     "start_time": "2020-08-30T01:25:56.770279Z"
    }
   },
   "outputs": [],
   "source": [
    "df = pd.read_csv('moving_averages_features.csv')"
   ]
  },
  {
   "cell_type": "code",
   "execution_count": 3,
   "metadata": {
    "ExecuteTime": {
     "end_time": "2020-08-30T01:26:12.509762Z",
     "start_time": "2020-08-30T01:26:10.904453Z"
    }
   },
   "outputs": [],
   "source": [
    "df = df.dropna()"
   ]
  },
  {
   "cell_type": "code",
   "execution_count": 5,
   "metadata": {
    "ExecuteTime": {
     "end_time": "2020-08-30T01:26:44.160458Z",
     "start_time": "2020-08-30T01:26:43.907136Z"
    }
   },
   "outputs": [],
   "source": [
    "df = df.drop(['Unnamed: 0','fl_date','day','mkt_unique_carrier','op_unique_carrier','op_carrier_fl_num','origin_airport_id','origin', 'origin_city_name', 'dest_airport_id', 'dest','dest_city_name','crs_dep_time','dep_time','crs_arr_time', 'arr_time','route',], axis = 1)"
   ]
  },
  {
   "cell_type": "code",
   "execution_count": 7,
   "metadata": {
    "ExecuteTime": {
     "end_time": "2020-08-30T01:26:52.504969Z",
     "start_time": "2020-08-30T01:26:52.237511Z"
    }
   },
   "outputs": [],
   "source": [
    "df.drop(['flights'], axis = 1, inplace =True)"
   ]
  },
  {
   "cell_type": "code",
   "execution_count": 8,
   "metadata": {
    "ExecuteTime": {
     "end_time": "2020-08-30T01:26:55.018611Z",
     "start_time": "2020-08-30T01:26:53.979372Z"
    }
   },
   "outputs": [],
   "source": [
    "mmscaler = MinMaxScaler()\n",
    "mmscaler = mmscaler.fit(df)\n",
    "\n",
    "scaled_df = mmscaler.transform(df)"
   ]
  },
  {
   "cell_type": "code",
   "execution_count": 9,
   "metadata": {
    "ExecuteTime": {
     "end_time": "2020-08-30T01:26:56.495837Z",
     "start_time": "2020-08-30T01:26:56.490848Z"
    }
   },
   "outputs": [],
   "source": [
    "scaled_df = pd.DataFrame(scaled_df, columns = df.columns)"
   ]
  },
  {
   "cell_type": "code",
   "execution_count": 10,
   "metadata": {
    "ExecuteTime": {
     "end_time": "2020-08-30T01:26:58.573381Z",
     "start_time": "2020-08-30T01:26:58.351435Z"
    }
   },
   "outputs": [],
   "source": [
    "y = scaled_df['arr_delay']\n",
    "X = scaled_df.drop('arr_delay', axis = 1)"
   ]
  },
  {
   "cell_type": "code",
   "execution_count": 11,
   "metadata": {
    "ExecuteTime": {
     "end_time": "2020-08-30T01:27:00.595887Z",
     "start_time": "2020-08-30T01:26:59.327887Z"
    }
   },
   "outputs": [],
   "source": [
    "X_train, X_test, y_train, y_test = train_test_split(X, y, test_size = 0.3)"
   ]
  },
  {
   "cell_type": "code",
   "execution_count": 12,
   "metadata": {
    "ExecuteTime": {
     "end_time": "2020-08-30T01:27:02.152499Z",
     "start_time": "2020-08-30T01:27:02.142526Z"
    }
   },
   "outputs": [],
   "source": [
    "# Linreg\n",
    "\n",
    "linreg = LinearRegression()"
   ]
  },
  {
   "cell_type": "code",
   "execution_count": 13,
   "metadata": {
    "ExecuteTime": {
     "end_time": "2020-08-30T01:27:04.664518Z",
     "start_time": "2020-08-30T01:27:02.586141Z"
    }
   },
   "outputs": [],
   "source": [
    "linreg = linreg.fit(X_train, y_train)"
   ]
  },
  {
   "cell_type": "code",
   "execution_count": 14,
   "metadata": {
    "ExecuteTime": {
     "end_time": "2020-08-30T01:27:05.017808Z",
     "start_time": "2020-08-30T01:27:04.923825Z"
    }
   },
   "outputs": [],
   "source": [
    "y_pred = linreg.predict(X_test)"
   ]
  },
  {
   "cell_type": "code",
   "execution_count": 15,
   "metadata": {
    "ExecuteTime": {
     "end_time": "2020-08-30T01:27:05.473008Z",
     "start_time": "2020-08-30T01:27:05.415130Z"
    }
   },
   "outputs": [
    {
     "name": "stdout",
     "output_type": "stream",
     "text": [
      "0.0022967632821004683 0.9795017918789792\n"
     ]
    }
   ],
   "source": [
    "from sklearn.metrics import mean_squared_error , r2_score\n",
    "print(np.sqrt(mean_squared_error(y_test , y_pred)) , r2_score(y_test , y_pred))"
   ]
  },
  {
   "cell_type": "code",
   "execution_count": 16,
   "metadata": {
    "ExecuteTime": {
     "end_time": "2020-08-30T01:31:47.312685Z",
     "start_time": "2020-08-30T01:27:58.611452Z"
    }
   },
   "outputs": [
    {
     "data": {
      "text/plain": [
       "RandomForestRegressor(max_samples=100000)"
      ]
     },
     "execution_count": 16,
     "metadata": {},
     "output_type": "execute_result"
    }
   ],
   "source": [
    "from sklearn.ensemble import RandomForestRegressor\n",
    "clf = RandomForestRegressor(n_estimators=100 , max_samples = 100000)\n",
    "clf.fit(X_train , y_train)"
   ]
  },
  {
   "cell_type": "code",
   "execution_count": 18,
   "metadata": {
    "ExecuteTime": {
     "end_time": "2020-08-30T01:31:57.317685Z",
     "start_time": "2020-08-30T01:31:47.392480Z"
    }
   },
   "outputs": [
    {
     "name": "stdout",
     "output_type": "stream",
     "text": [
      "0.0014933728135359534 0.9913339756132844\n"
     ]
    }
   ],
   "source": [
    "y_pred = clf.predict(X_test)\n",
    "print(np.sqrt(mean_squared_error(y_test , y_pred)) , r2_score(y_test , y_pred))"
   ]
  },
  {
   "cell_type": "code",
   "execution_count": null,
   "metadata": {},
   "outputs": [],
   "source": []
  }
 ],
 "metadata": {
  "kernelspec": {
   "display_name": "Python 3",
   "language": "python",
   "name": "python3"
  },
  "language_info": {
   "codemirror_mode": {
    "name": "ipython",
    "version": 3
   },
   "file_extension": ".py",
   "mimetype": "text/x-python",
   "name": "python",
   "nbconvert_exporter": "python",
   "pygments_lexer": "ipython3",
   "version": "3.7.6"
  }
 },
 "nbformat": 4,
 "nbformat_minor": 4
}
