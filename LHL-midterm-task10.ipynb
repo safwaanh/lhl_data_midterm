{
 "cells": [
  {
   "cell_type": "markdown",
   "metadata": {},
   "source": [
    "#### **Task 10**: Do bigger delays lead to bigger fuel comsumption per passenger? \n",
    "We need to do four things to answer this as accurate as possible:\n",
    "- Find out average monthly delay per air carrier\n",
    "- Find out distance covered monthly by different air carriers\n",
    "- Find out number of passengers that were carried \n",
    "- Find out total fuel comsumption per air carrier.\n",
    "\n",
    "Use this information to get the average fuel comsumption per passenger per km. Is this higher for the airlines with bigger average delays?"
   ]
  },
  {
   "cell_type": "code",
   "execution_count": 2,
   "metadata": {},
   "outputs": [],
   "source": [
    "import pandas as pd\n",
    "import numpy as np\n",
    "import matplotlib.pyplot as plt\n",
    "from copy import deepcopy\n",
    "%matplotlib inline"
   ]
  },
  {
   "cell_type": "code",
   "execution_count": 3,
   "metadata": {},
   "outputs": [
    {
     "data": {
      "text/plain": [
       "(15927485, 42)"
      ]
     },
     "execution_count": 3,
     "metadata": {},
     "output_type": "execute_result"
    }
   ],
   "source": [
    "#import flights table\n",
    "flights = pd.read_csv('flights.csv', low_memory=False)\n",
    "flights.shape"
   ]
  },
  {
   "cell_type": "code",
   "execution_count": 49,
   "metadata": {},
   "outputs": [],
   "source": [
    "flights.to_pickle('flights.pkl')"
   ]
  },
  {
   "cell_type": "code",
   "execution_count": 4,
   "metadata": {},
   "outputs": [],
   "source": [
    "# import passengers and fuel consumption tables\n",
    "passengers = pd.read_csv('passengers.csv')\n",
    "fuel_consumption = pd.read_csv('fuel_consumption.csv')"
   ]
  },
  {
   "cell_type": "code",
   "execution_count": 8,
   "metadata": {},
   "outputs": [],
   "source": [
    "avg_delay = flights_sample.groupby(['op_unique_carrier','year','month'])['dep_delay'].mean().reset_index()\n",
    "avg_delay = avg_delay.groupby('op_unique_carrier')['dep_delay'].mean().reset_index()\n",
    "delay = deepcopy(avg_delay)\n"
   ]
  },
  {
   "cell_type": "code",
   "execution_count": 9,
   "metadata": {},
   "outputs": [],
   "source": [
    "dist = flights_sample.groupby(['op_unique_carrier','year','month'])['distance'].sum().reset_index()\n",
    "dist = dist.groupby('op_unique_carrier')['distance'].mean().reset_index()\n"
   ]
  },
  {
   "cell_type": "code",
   "execution_count": 10,
   "metadata": {},
   "outputs": [],
   "source": [
    "# limit passengers data to just 2018 and 2019 since that is the only data on the flights table\n",
    "passengers = passengers[passengers['year'] >= 2018]"
   ]
  },
  {
   "cell_type": "code",
   "execution_count": 11,
   "metadata": {},
   "outputs": [],
   "source": [
    "avg_pass = passengers.groupby(['unique_carrier','year','month'])['passengers'].sum().reset_index()\n",
    "avg_pass = avg_pass.groupby(['unique_carrier'])['passengers'].mean().reset_index()\n"
   ]
  },
  {
   "cell_type": "code",
   "execution_count": 12,
   "metadata": {},
   "outputs": [],
   "source": [
    "# drop NaN carriers and limit data to 2018 and 2019\n",
    "fuel_consumption = fuel_consumption[fuel_consumption['unique_carrier'].isna() == False]\n",
    "fuel_consumption = fuel_consumption[fuel_consumption['year'] >= 2018]"
   ]
  },
  {
   "cell_type": "code",
   "execution_count": 13,
   "metadata": {},
   "outputs": [],
   "source": [
    "avg_fuel = fuel_consumption.groupby(['unique_carrier','year','month'])['total_gallons'].sum().reset_index()\n",
    "avg_fuel = avg_fuel.groupby('unique_carrier')['total_gallons'].mean().reset_index()\n"
   ]
  },
  {
   "cell_type": "code",
   "execution_count": 14,
   "metadata": {},
   "outputs": [],
   "source": [
    "# join data back into main flights table\n",
    "avg_delay = avg_delay.rename(columns={'op_unique_carrier':'unique_carrier'})\n",
    "dist = dist.rename(columns={'op_unique_carrier':'unique_carrier'})\n",
    "\n",
    "df = pd.merge(avg_delay,avg_pass,on='unique_carrier',how='left')\n",
    "df = pd.merge(df,avg_fuel,on='unique_carrier',how='left')\n",
    "df = pd.merge(df,dist,on='unique_carrier',how='left')"
   ]
  },
  {
   "cell_type": "code",
   "execution_count": 15,
   "metadata": {},
   "outputs": [],
   "source": [
    "df['fuel_rate'] = df['total_gallons']/(df['passengers']*df['distance'])"
   ]
  },
  {
   "cell_type": "code",
   "execution_count": 16,
   "metadata": {},
   "outputs": [
    {
     "data": {
      "image/png": "[encoded data removed]",
      "text/plain": [
       "<Figure size 720x576 with 1 Axes>"
      ]
     },
     "metadata": {
      "needs_background": "light"
     },
     "output_type": "display_data"
    }
   ],
   "source": [
    "plt.figure(figsize=(10,8))\n",
    "plt.scatter(df['dep_delay'],df['fuel_rate'])\n",
    "plt.xlabel('Average Delay')\n",
    "plt.ylabel('Fuel Consumption per Passenger per mile')\n",
    "plt.ylim(-0.000005,0.00004)\n",
    "plt.grid()"
   ]
  },
  {
   "cell_type": "code",
   "execution_count": 17,
   "metadata": {},
   "outputs": [],
   "source": [
    "total_pass = passengers.groupby('unique_carrier')['passengers'].sum().reset_index()\n",
    "total_fuel = fuel_consumption.groupby('unique_carrier')['total_gallons'].sum().reset_index()\n",
    "total_dist = flights_sample.groupby('op_unique_carrier')['distance'].sum().reset_index()\n",
    "\n",
    "total_fuel = total_fuel[total_fuel['total_gallons']>1]"
   ]
  },
  {
   "cell_type": "code",
   "execution_count": 18,
   "metadata": {},
   "outputs": [],
   "source": [
    "total_dist = total_dist.rename(columns={'op_unique_carrier':'unique_carrier'})\n",
    "delay = delay.rename(columns={'op_unique_carrier':'unique_carrier'})\n",
    "\n",
    "total_df = pd.merge(delay,total_pass,on='unique_carrier',how='left')\n",
    "total_df = pd.merge(total_df,total_fuel,on='unique_carrier',how='left')\n",
    "total_df = pd.merge(total_df,total_dist,on='unique_carrier',how='left')\n",
    "\n",
    "total_df['fuel_rate'] = total_df['total_gallons']/(total_df['passengers']*total_df['distance'])"
   ]
  },
  {
   "cell_type": "code",
   "execution_count": 19,
   "metadata": {},
   "outputs": [
    {
     "data": {
      "image/png": "[encoded data removed]",
      "text/plain": [
       "<Figure size 720x576 with 1 Axes>"
      ]
     },
     "metadata": {
      "needs_background": "light"
     },
     "output_type": "display_data"
    }
   ],
   "source": [
    "plt.figure(figsize=(10,8))\n",
    "plt.scatter(total_df['dep_delay'],total_df['fuel_rate'])\n",
    "plt.xlabel('Average Delay')\n",
    "plt.ylabel('Fuel Consumption per Passenger per mile')\n",
    "#plt.ylim(-0.000005,0.00004)\n",
    "plt.grid()"
   ]
  },
  {
   "cell_type": "code",
   "execution_count": 25,
   "metadata": {},
   "outputs": [],
   "source": [
    "test_df = deepcopy(total_df)\n",
    "test_df = test_df[test_df['fuel_rate'].isna()==False]\n",
    "lower_delay = test_df[test_df['dep_delay']<9.5]\n",
    "higher_delay = test_df[test_df['dep_delay']>=9.5]\n"
   ]
  },
  {
   "cell_type": "code",
   "execution_count": 26,
   "metadata": {},
   "outputs": [
    {
     "name": "stdout",
     "output_type": "stream",
     "text": [
      "Higher Delay mean value: 4.6026019400717425e-07\n",
      "Lower Delay mean value: 6.456173084340268e-07\n",
      "high delay std value: 3.3726599219692925e-07\n",
      "low delay std value: 9.386407110478222e-07\n",
      "p-value 0.6865126682405891\n",
      "Accept null hypothesis\n"
     ]
    }
   ],
   "source": [
    "from scipy.stats import ttest_ind\n",
    "\n",
    "high_delay_mean = np.mean(higher_delay['fuel_rate'])\n",
    "low_delay_mean = np.mean(lower_delay['fuel_rate'])\n",
    "print(\"Higher Delay mean value:\",high_delay_mean)\n",
    "print(\"Lower Delay mean value:\",low_delay_mean)\n",
    "\n",
    "high_delay_std = np.std(higher_delay['fuel_rate'])\n",
    "low_delay_std = np.std(lower_delay['fuel_rate'])\n",
    "\n",
    "print(\"high delay std value:\",high_delay_std)\n",
    "print(\"low delay std value:\",low_delay_std)\n",
    "\n",
    "ttest,pval = ttest_ind(higher_delay['fuel_rate'],lower_delay['fuel_rate'])\n",
    "print(\"p-value\",pval)\n",
    "if pval <0.05:\n",
    "  print(\"Reject null hypothesis\")\n",
    "else:\n",
    "  print(\"Accept null hypothesis\")"
   ]
  },
  {
   "cell_type": "markdown",
   "metadata": {},
   "source": [
    "### The values for mean fuel rate between longer delays and shorter delays are not statistically significant"
   ]
  },
  {
   "cell_type": "code",
   "execution_count": 27,
   "metadata": {},
   "outputs": [],
   "source": [
    "# using more monthly data"
   ]
  },
  {
   "cell_type": "code",
   "execution_count": 32,
   "metadata": {},
   "outputs": [
    {
     "data": {
      "text/html": [
       "<div>\n",
       "<style scoped>\n",
       "    .dataframe tbody tr th:only-of-type {\n",
       "        vertical-align: middle;\n",
       "    }\n",
       "\n",
       "    .dataframe tbody tr th {\n",
       "        vertical-align: top;\n",
       "    }\n",
       "\n",
       "    .dataframe thead th {\n",
       "        text-align: right;\n",
       "    }\n",
       "</style>\n",
       "<table border=\"1\" class=\"dataframe\">\n",
       "  <thead>\n",
       "    <tr style=\"text-align: right;\">\n",
       "      <th></th>\n",
       "      <th>fl_date</th>\n",
       "      <th>mkt_unique_carrier</th>\n",
       "      <th>branded_code_share</th>\n",
       "      <th>mkt_carrier</th>\n",
       "      <th>mkt_carrier_fl_num</th>\n",
       "      <th>op_unique_carrier</th>\n",
       "      <th>tail_num</th>\n",
       "      <th>op_carrier_fl_num</th>\n",
       "      <th>origin_airport_id</th>\n",
       "      <th>origin</th>\n",
       "      <th>...</th>\n",
       "      <th>nas_delay</th>\n",
       "      <th>security_delay</th>\n",
       "      <th>late_aircraft_delay</th>\n",
       "      <th>first_dep_time</th>\n",
       "      <th>total_add_gtime</th>\n",
       "      <th>longest_add_gtime</th>\n",
       "      <th>no_name</th>\n",
       "      <th>year</th>\n",
       "      <th>month</th>\n",
       "      <th>year_month</th>\n",
       "    </tr>\n",
       "  </thead>\n",
       "  <tbody>\n",
       "    <tr>\n",
       "      <th>11104347</th>\n",
       "      <td>2018-12-17</td>\n",
       "      <td>WN</td>\n",
       "      <td>WN</td>\n",
       "      <td>WN</td>\n",
       "      <td>1770</td>\n",
       "      <td>WN</td>\n",
       "      <td>N8583Z</td>\n",
       "      <td>1770</td>\n",
       "      <td>11259</td>\n",
       "      <td>DAL</td>\n",
       "      <td>...</td>\n",
       "      <td>NaN</td>\n",
       "      <td>NaN</td>\n",
       "      <td>NaN</td>\n",
       "      <td>NaN</td>\n",
       "      <td>NaN</td>\n",
       "      <td>NaN</td>\n",
       "      <td>NaN</td>\n",
       "      <td>2018</td>\n",
       "      <td>12</td>\n",
       "      <td>11104347    2018\\n15145825    2018\\n1418949   ...</td>\n",
       "    </tr>\n",
       "    <tr>\n",
       "      <th>15145825</th>\n",
       "      <td>2018-02-21</td>\n",
       "      <td>UA</td>\n",
       "      <td>UA</td>\n",
       "      <td>UA</td>\n",
       "      <td>2171</td>\n",
       "      <td>UA</td>\n",
       "      <td>N26215</td>\n",
       "      <td>2171</td>\n",
       "      <td>13930</td>\n",
       "      <td>ORD</td>\n",
       "      <td>...</td>\n",
       "      <td>NaN</td>\n",
       "      <td>NaN</td>\n",
       "      <td>NaN</td>\n",
       "      <td>NaN</td>\n",
       "      <td>NaN</td>\n",
       "      <td>NaN</td>\n",
       "      <td>NaN</td>\n",
       "      <td>2018</td>\n",
       "      <td>2</td>\n",
       "      <td>11104347    2018\\n15145825    2018\\n1418949   ...</td>\n",
       "    </tr>\n",
       "    <tr>\n",
       "      <th>1418949</th>\n",
       "      <td>2019-05-03</td>\n",
       "      <td>UA</td>\n",
       "      <td>UA</td>\n",
       "      <td>UA</td>\n",
       "      <td>977</td>\n",
       "      <td>UA</td>\n",
       "      <td>N33292</td>\n",
       "      <td>977</td>\n",
       "      <td>11618</td>\n",
       "      <td>EWR</td>\n",
       "      <td>...</td>\n",
       "      <td>NaN</td>\n",
       "      <td>NaN</td>\n",
       "      <td>NaN</td>\n",
       "      <td>NaN</td>\n",
       "      <td>NaN</td>\n",
       "      <td>NaN</td>\n",
       "      <td>NaN</td>\n",
       "      <td>2019</td>\n",
       "      <td>5</td>\n",
       "      <td>11104347    2018\\n15145825    2018\\n1418949   ...</td>\n",
       "    </tr>\n",
       "    <tr>\n",
       "      <th>7708322</th>\n",
       "      <td>2018-03-13</td>\n",
       "      <td>UA</td>\n",
       "      <td>UA</td>\n",
       "      <td>UA</td>\n",
       "      <td>991</td>\n",
       "      <td>UA</td>\n",
       "      <td>N77539</td>\n",
       "      <td>991</td>\n",
       "      <td>11618</td>\n",
       "      <td>EWR</td>\n",
       "      <td>...</td>\n",
       "      <td>NaN</td>\n",
       "      <td>NaN</td>\n",
       "      <td>NaN</td>\n",
       "      <td>NaN</td>\n",
       "      <td>NaN</td>\n",
       "      <td>NaN</td>\n",
       "      <td>NaN</td>\n",
       "      <td>2018</td>\n",
       "      <td>3</td>\n",
       "      <td>11104347    2018\\n15145825    2018\\n1418949   ...</td>\n",
       "    </tr>\n",
       "    <tr>\n",
       "      <th>3596121</th>\n",
       "      <td>2019-07-09</td>\n",
       "      <td>WN</td>\n",
       "      <td>WN</td>\n",
       "      <td>WN</td>\n",
       "      <td>2542</td>\n",
       "      <td>WN</td>\n",
       "      <td>N784SW</td>\n",
       "      <td>2542</td>\n",
       "      <td>10693</td>\n",
       "      <td>BNA</td>\n",
       "      <td>...</td>\n",
       "      <td>NaN</td>\n",
       "      <td>NaN</td>\n",
       "      <td>NaN</td>\n",
       "      <td>NaN</td>\n",
       "      <td>NaN</td>\n",
       "      <td>NaN</td>\n",
       "      <td>NaN</td>\n",
       "      <td>2019</td>\n",
       "      <td>7</td>\n",
       "      <td>11104347    2018\\n15145825    2018\\n1418949   ...</td>\n",
       "    </tr>\n",
       "  </tbody>\n",
       "</table>\n",
       "<p>5 rows × 45 columns</p>\n",
       "</div>"
      ],
      "text/plain": [
       "            fl_date mkt_unique_carrier branded_code_share mkt_carrier  \\\n",
       "11104347 2018-12-17                 WN                 WN          WN   \n",
       "15145825 2018-02-21                 UA                 UA          UA   \n",
       "1418949  2019-05-03                 UA                 UA          UA   \n",
       "7708322  2018-03-13                 UA                 UA          UA   \n",
       "3596121  2019-07-09                 WN                 WN          WN   \n",
       "\n",
       "          mkt_carrier_fl_num op_unique_carrier tail_num  op_carrier_fl_num  \\\n",
       "11104347                1770                WN   N8583Z               1770   \n",
       "15145825                2171                UA   N26215               2171   \n",
       "1418949                  977                UA   N33292                977   \n",
       "7708322                  991                UA   N77539                991   \n",
       "3596121                 2542                WN   N784SW               2542   \n",
       "\n",
       "          origin_airport_id origin  ... nas_delay  security_delay  \\\n",
       "11104347              11259    DAL  ...       NaN             NaN   \n",
       "15145825              13930    ORD  ...       NaN             NaN   \n",
       "1418949               11618    EWR  ...       NaN             NaN   \n",
       "7708322               11618    EWR  ...       NaN             NaN   \n",
       "3596121               10693    BNA  ...       NaN             NaN   \n",
       "\n",
       "         late_aircraft_delay first_dep_time  total_add_gtime  \\\n",
       "11104347                 NaN            NaN              NaN   \n",
       "15145825                 NaN            NaN              NaN   \n",
       "1418949                  NaN            NaN              NaN   \n",
       "7708322                  NaN            NaN              NaN   \n",
       "3596121                  NaN            NaN              NaN   \n",
       "\n",
       "          longest_add_gtime  no_name  year  month  \\\n",
       "11104347                NaN      NaN  2018     12   \n",
       "15145825                NaN      NaN  2018      2   \n",
       "1418949                 NaN      NaN  2019      5   \n",
       "7708322                 NaN      NaN  2018      3   \n",
       "3596121                 NaN      NaN  2019      7   \n",
       "\n",
       "                                                 year_month  \n",
       "11104347  11104347    2018\\n15145825    2018\\n1418949   ...  \n",
       "15145825  11104347    2018\\n15145825    2018\\n1418949   ...  \n",
       "1418949   11104347    2018\\n15145825    2018\\n1418949   ...  \n",
       "7708322   11104347    2018\\n15145825    2018\\n1418949   ...  \n",
       "3596121   11104347    2018\\n15145825    2018\\n1418949   ...  \n",
       "\n",
       "[5 rows x 45 columns]"
      ]
     },
     "execution_count": 32,
     "metadata": {},
     "output_type": "execute_result"
    }
   ],
   "source": [
    "flights_sample['year_month'] = str(flights_sample['year'])+str(flights_sample['month'])\n",
    "flights_sample.head()"
   ]
  },
  {
   "cell_type": "code",
   "execution_count": 38,
   "metadata": {},
   "outputs": [],
   "source": [
    "year_month=[]\n",
    "for row in range(flights_sample.shape[0]):\n",
    "    year_month.append(str(flights_sample.iloc[row]['year'])+str(flights_sample.iloc[row]['month']).zfill(2))"
   ]
  },
  {
   "cell_type": "code",
   "execution_count": 46,
   "metadata": {},
   "outputs": [],
   "source": [
    "year_month_df = pd.DataFrame(year_month,columns=['year_month'])"
   ]
  },
  {
   "cell_type": "code",
   "execution_count": 47,
   "metadata": {},
   "outputs": [
    {
     "data": {
      "text/html": [
       "<div>\n",
       "<style scoped>\n",
       "    .dataframe tbody tr th:only-of-type {\n",
       "        vertical-align: middle;\n",
       "    }\n",
       "\n",
       "    .dataframe tbody tr th {\n",
       "        vertical-align: top;\n",
       "    }\n",
       "\n",
       "    .dataframe thead th {\n",
       "        text-align: right;\n",
       "    }\n",
       "</style>\n",
       "<table border=\"1\" class=\"dataframe\">\n",
       "  <thead>\n",
       "    <tr style=\"text-align: right;\">\n",
       "      <th></th>\n",
       "      <th>index</th>\n",
       "      <th>fl_date</th>\n",
       "      <th>mkt_unique_carrier</th>\n",
       "      <th>branded_code_share</th>\n",
       "      <th>mkt_carrier</th>\n",
       "      <th>mkt_carrier_fl_num</th>\n",
       "      <th>op_unique_carrier</th>\n",
       "      <th>tail_num</th>\n",
       "      <th>op_carrier_fl_num</th>\n",
       "      <th>origin_airport_id</th>\n",
       "      <th>...</th>\n",
       "      <th>carrier_delay</th>\n",
       "      <th>weather_delay</th>\n",
       "      <th>nas_delay</th>\n",
       "      <th>security_delay</th>\n",
       "      <th>late_aircraft_delay</th>\n",
       "      <th>first_dep_time</th>\n",
       "      <th>total_add_gtime</th>\n",
       "      <th>longest_add_gtime</th>\n",
       "      <th>no_name</th>\n",
       "      <th>year_month</th>\n",
       "    </tr>\n",
       "  </thead>\n",
       "  <tbody>\n",
       "    <tr>\n",
       "      <th>0</th>\n",
       "      <td>5848953</td>\n",
       "      <td>2019-10-19</td>\n",
       "      <td>AA</td>\n",
       "      <td>AA</td>\n",
       "      <td>AA</td>\n",
       "      <td>1064</td>\n",
       "      <td>AA</td>\n",
       "      <td>N155NN</td>\n",
       "      <td>1064</td>\n",
       "      <td>11298</td>\n",
       "      <td>...</td>\n",
       "      <td>21.0</td>\n",
       "      <td>0.0</td>\n",
       "      <td>2.0</td>\n",
       "      <td>0.0</td>\n",
       "      <td>0.0</td>\n",
       "      <td>NaN</td>\n",
       "      <td>NaN</td>\n",
       "      <td>NaN</td>\n",
       "      <td>NaN</td>\n",
       "      <td>201812</td>\n",
       "    </tr>\n",
       "    <tr>\n",
       "      <th>1</th>\n",
       "      <td>14181612</td>\n",
       "      <td>2018-05-06</td>\n",
       "      <td>WN</td>\n",
       "      <td>WN</td>\n",
       "      <td>WN</td>\n",
       "      <td>3874</td>\n",
       "      <td>WN</td>\n",
       "      <td>N209WN</td>\n",
       "      <td>3874</td>\n",
       "      <td>15304</td>\n",
       "      <td>...</td>\n",
       "      <td>NaN</td>\n",
       "      <td>NaN</td>\n",
       "      <td>NaN</td>\n",
       "      <td>NaN</td>\n",
       "      <td>NaN</td>\n",
       "      <td>NaN</td>\n",
       "      <td>NaN</td>\n",
       "      <td>NaN</td>\n",
       "      <td>NaN</td>\n",
       "      <td>201802</td>\n",
       "    </tr>\n",
       "    <tr>\n",
       "      <th>2</th>\n",
       "      <td>7630489</td>\n",
       "      <td>2018-03-09</td>\n",
       "      <td>DL</td>\n",
       "      <td>DL</td>\n",
       "      <td>DL</td>\n",
       "      <td>1055</td>\n",
       "      <td>DL</td>\n",
       "      <td>N665DN</td>\n",
       "      <td>1055</td>\n",
       "      <td>10397</td>\n",
       "      <td>...</td>\n",
       "      <td>NaN</td>\n",
       "      <td>NaN</td>\n",
       "      <td>NaN</td>\n",
       "      <td>NaN</td>\n",
       "      <td>NaN</td>\n",
       "      <td>NaN</td>\n",
       "      <td>NaN</td>\n",
       "      <td>NaN</td>\n",
       "      <td>NaN</td>\n",
       "      <td>201905</td>\n",
       "    </tr>\n",
       "    <tr>\n",
       "      <th>3</th>\n",
       "      <td>8017372</td>\n",
       "      <td>2018-03-27</td>\n",
       "      <td>NK</td>\n",
       "      <td>NK</td>\n",
       "      <td>NK</td>\n",
       "      <td>529</td>\n",
       "      <td>NK</td>\n",
       "      <td>N615NK</td>\n",
       "      <td>529</td>\n",
       "      <td>14122</td>\n",
       "      <td>...</td>\n",
       "      <td>NaN</td>\n",
       "      <td>NaN</td>\n",
       "      <td>NaN</td>\n",
       "      <td>NaN</td>\n",
       "      <td>NaN</td>\n",
       "      <td>NaN</td>\n",
       "      <td>NaN</td>\n",
       "      <td>NaN</td>\n",
       "      <td>NaN</td>\n",
       "      <td>201803</td>\n",
       "    </tr>\n",
       "    <tr>\n",
       "      <th>4</th>\n",
       "      <td>10416107</td>\n",
       "      <td>2019-11-15</td>\n",
       "      <td>DL</td>\n",
       "      <td>DL</td>\n",
       "      <td>DL</td>\n",
       "      <td>1944</td>\n",
       "      <td>DL</td>\n",
       "      <td>N6700</td>\n",
       "      <td>1944</td>\n",
       "      <td>10397</td>\n",
       "      <td>...</td>\n",
       "      <td>NaN</td>\n",
       "      <td>NaN</td>\n",
       "      <td>NaN</td>\n",
       "      <td>NaN</td>\n",
       "      <td>NaN</td>\n",
       "      <td>NaN</td>\n",
       "      <td>NaN</td>\n",
       "      <td>NaN</td>\n",
       "      <td>NaN</td>\n",
       "      <td>201907</td>\n",
       "    </tr>\n",
       "  </tbody>\n",
       "</table>\n",
       "<p>5 rows × 44 columns</p>\n",
       "</div>"
      ],
      "text/plain": [
       "      index     fl_date mkt_unique_carrier branded_code_share mkt_carrier  \\\n",
       "0   5848953  2019-10-19                 AA                 AA          AA   \n",
       "1  14181612  2018-05-06                 WN                 WN          WN   \n",
       "2   7630489  2018-03-09                 DL                 DL          DL   \n",
       "3   8017372  2018-03-27                 NK                 NK          NK   \n",
       "4  10416107  2019-11-15                 DL                 DL          DL   \n",
       "\n",
       "   mkt_carrier_fl_num op_unique_carrier tail_num  op_carrier_fl_num  \\\n",
       "0                1064                AA   N155NN               1064   \n",
       "1                3874                WN   N209WN               3874   \n",
       "2                1055                DL   N665DN               1055   \n",
       "3                 529                NK   N615NK                529   \n",
       "4                1944                DL    N6700               1944   \n",
       "\n",
       "   origin_airport_id  ... carrier_delay weather_delay  nas_delay  \\\n",
       "0              11298  ...          21.0           0.0        2.0   \n",
       "1              15304  ...           NaN           NaN        NaN   \n",
       "2              10397  ...           NaN           NaN        NaN   \n",
       "3              14122  ...           NaN           NaN        NaN   \n",
       "4              10397  ...           NaN           NaN        NaN   \n",
       "\n",
       "  security_delay late_aircraft_delay  first_dep_time  total_add_gtime  \\\n",
       "0            0.0                 0.0             NaN              NaN   \n",
       "1            NaN                 NaN             NaN              NaN   \n",
       "2            NaN                 NaN             NaN              NaN   \n",
       "3            NaN                 NaN             NaN              NaN   \n",
       "4            NaN                 NaN             NaN              NaN   \n",
       "\n",
       "   longest_add_gtime  no_name  year_month  \n",
       "0                NaN      NaN      201812  \n",
       "1                NaN      NaN      201802  \n",
       "2                NaN      NaN      201905  \n",
       "3                NaN      NaN      201803  \n",
       "4                NaN      NaN      201907  \n",
       "\n",
       "[5 rows x 44 columns]"
      ]
     },
     "execution_count": 47,
     "metadata": {},
     "output_type": "execute_result"
    }
   ],
   "source": [
    "flights_sample = pd.concat([flights_sample.reset_index(),year_month_df],axis=1)\n",
    "flights_sample.head()"
   ]
  },
  {
   "cell_type": "code",
   "execution_count": 48,
   "metadata": {},
   "outputs": [],
   "source": [
    "monthly_summary = flights_sample.groupby(['op_unique_carrier','year_month'],as_index=False).agg({'distance':'sum','dep_delay':'mean'})"
   ]
  },
  {
   "cell_type": "code",
   "execution_count": null,
   "metadata": {},
   "outputs": [],
   "source": []
  }
 ],
 "metadata": {
  "kernelspec": {
   "display_name": "Python 3",
   "language": "python",
   "name": "python3"
  },
  "language_info": {
   "codemirror_mode": {
    "name": "ipython",
    "version": 3
   },
   "file_extension": ".py",
   "mimetype": "text/x-python",
   "name": "python",
   "nbconvert_exporter": "python",
   "pygments_lexer": "ipython3",
   "version": "3.7.6"
  }
 },
 "nbformat": 4,
 "nbformat_minor": 4
}
