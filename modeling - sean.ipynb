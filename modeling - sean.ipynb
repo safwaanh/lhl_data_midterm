{
 "cells": [
  {
   "cell_type": "markdown",
   "metadata": {},
   "source": [
    "# Machine Learning\n",
    "\n",
    "In this file, we can find all instructions how to approach Machine Learning challenge and how to submit results in the correct form. "
   ]
  },
  {
   "cell_type": "markdown",
   "metadata": {},
   "source": [
    "We are going to work on three different types of Machine Learning problem:\n",
    "\n",
    "- **Regression Problem**: The goal is to predict delay of flights.\n",
    "- **Multiclass Classification**: If the plane was delayed, we will predict what type of delay it is (will be).\n",
    "- **Binary Classification**: The goal is to predict if the flight will be cancelled."
   ]
  },
  {
   "cell_type": "code",
   "execution_count": 86,
   "metadata": {},
   "outputs": [],
   "source": [
    "import pandas as pd\n",
    "import numpy as np\n",
    "import matplotlib.pyplot as plt\n",
    "import seaborn as sns\n",
    "from sklearn import metrics\n",
    "from sklearn.metrics import precision_score\n",
    "from sklearn.metrics import accuracy_score\n",
    "from sklearn.metrics import recall_score\n",
    "from sklearn.model_selection import train_test_split\n",
    "from imblearn.over_sampling import SMOTE\n",
    "from sklearn.linear_model import LogisticRegression\n",
    "from sklearn.preprocessing import StandardScaler\n",
    "from sklearn.linear_model import LogisticRegressionCV\n",
    "from sklearn.model_selection import GridSearchCV\n",
    "from sklearn.metrics import mean_squared_error"
   ]
  },
  {
   "cell_type": "code",
   "execution_count": 2,
   "metadata": {},
   "outputs": [],
   "source": [
    "#import datasets\n",
    "delayed_df = pd.read_pickle('delay_df.pkl')\n",
    "cancel_df = pd.read_pickle('cancel_df.pkl')"
   ]
  },
  {
   "cell_type": "code",
   "execution_count": 3,
   "metadata": {},
   "outputs": [],
   "source": [
    "# create smaller datasets to test with\n",
    "delayed = delayed_df.sample(n=100000, random_state=0)\n",
    "cancel = cancel_df.sample(n=100000,random_state=0)"
   ]
  },
  {
   "cell_type": "markdown",
   "metadata": {},
   "source": [
    "### Regression"
   ]
  },
  {
   "cell_type": "markdown",
   "metadata": {},
   "source": [
    "The target variable is **ARR_DELAY**. We need to be careful which columns to use and which don't. For example, DEP_DELAY is going to be the perfect predictor, but we can't use it because in real-life scenario, we want to predict the delay before the flight takes of (1 day in advance) --> We can use average delay from previous x days but not the one from the actual flight we predict. "
   ]
  },
  {
   "cell_type": "code",
   "execution_count": null,
   "metadata": {},
   "outputs": [],
   "source": []
  },
  {
   "cell_type": "markdown",
   "metadata": {},
   "source": [
    "## Multiclass Classification"
   ]
  },
  {
   "cell_type": "markdown",
   "metadata": {},
   "source": [
    "The target variables are **CARRIER_DELAY, WEATHER_DELAY, NAS_DELAY, SECURITY_DELAY, LATE_AIRCRAFT_DELAY**. We need to do additional transformations because these variables are not binary but continuos. For each flight that was delayed, we need to have one of these variables as 1 and others 0.\n",
    "\n",
    "It can happen that we have two types of delays with more than 0 minutes. In this case, take the bigger one as 1 and others as 0."
   ]
  },
  {
   "cell_type": "code",
   "execution_count": 34,
   "metadata": {},
   "outputs": [
    {
     "name": "stdout",
     "output_type": "stream",
     "text": [
      "[[19657   332     6   146     0     7]\n",
      " [ 1430   623    10   193     0    12]\n",
      " [  122   110    12    61     0     1]\n",
      " [  949   238    13   380     0     5]\n",
      " [    5     1     0     1     0     0]\n",
      " [  444   207     1    18     0    16]]\n",
      "Accuracy: 0.82752\n"
     ]
    }
   ],
   "source": [
    "# create smaller datasets to test with\n",
    "delayed = delayed_df.sample(n=100000, random_state=0)\n",
    "\n",
    "y = delayed['delay_code']\n",
    "X = delayed.drop(['delay_code','dep_delay','arr_delay','dep_delay_bin','arr_delay_bin','fl_date'],axis=1)\n",
    "\n",
    "# Standarize features because it would otherwise run over max iterations\n",
    "scaler = StandardScaler()\n",
    "X_std = scaler.fit_transform(X)\n",
    "\n",
    "# split X and y into training and testing sets\n",
    "X_train,X_test,y_train,y_test=train_test_split(X_std,y,test_size=0.25,random_state=0)\n",
    "                  \n",
    "#instantiate logistic model\n",
    "MNLR = LogisticRegression(C=1,max_iter=5000,random_state=0, multi_class='multinomial')\n",
    "                  \n",
    "# fit training data\n",
    "MNLR.fit(X_train,y_train)\n",
    "\n",
    "# predict with test data\n",
    "y_pred_MNLR = MNLR.predict(X_test)\n",
    "\n",
    "#create confusion matrix\n",
    "cnf_matrix_MNLR = metrics.confusion_matrix(y_test, y_pred_MNLR)\n",
    "print(cnf_matrix_MNLR)\n",
    "\n",
    "print(\"Accuracy:\", accuracy_score(y_test, y_pred_MNLR))\n",
    "#print(\"Recall:\", recall_score(y_test, y_pred_MNLR))\n",
    "#print(\"Precision:\", precision_score(y_test, y_pred_MNLR))"
   ]
  },
  {
   "cell_type": "code",
   "execution_count": 61,
   "metadata": {},
   "outputs": [
    {
     "data": {
      "text/plain": [
       "<AxesSubplot:>"
      ]
     },
     "execution_count": 61,
     "metadata": {},
     "output_type": "execute_result"
    },
    {
     "data": {
      "image/png": "[encoded data removed]",
      "text/plain": [
       "<Figure size 576x360 with 2 Axes>"
      ]
     },
     "metadata": {
      "needs_background": "light"
     },
     "output_type": "display_data"
    }
   ],
   "source": [
    "plt.figure(figsize=(8,5))\n",
    "sns.heatmap(cnf_matrix_MNLR, annot=True, cmap='Greens',fmt='g')"
   ]
  },
  {
   "cell_type": "code",
   "execution_count": 5,
   "metadata": {},
   "outputs": [
    {
     "data": {
      "text/plain": [
       "{'C': 1}"
      ]
     },
     "execution_count": 5,
     "metadata": {},
     "output_type": "execute_result"
    }
   ],
   "source": [
    "# use gridsearchCV to try to get best parameters\n",
    "\n",
    "parameter_grid = {\n",
    "        'C': [1,2,3,4,5]\n",
    "    }\n",
    "\n",
    "MNLR = LogisticRegression(max_iter=5000,random_state=0,multi_class='multinomial')\n",
    "gs = GridSearchCV(MNLR, parameter_grid, cv=5)\n",
    "gs.fit(X_train, y_train)\n",
    "\n",
    "gs.best_params_"
   ]
  },
  {
   "cell_type": "code",
   "execution_count": 75,
   "metadata": {},
   "outputs": [
    {
     "name": "stdout",
     "output_type": "stream",
     "text": [
      "[[16561   492   290   997  1055   753]\n",
      " [  225   456   281   420   376   510]\n",
      " [   18    32   134    53    15    54]\n",
      " [  198   139   224   797    70   157]\n",
      " [    2     0     0     1     1     3]\n",
      " [   50   101    65    33   119   318]]\n",
      "Accuracy: 0.73068\n"
     ]
    }
   ],
   "source": [
    "# Completing the multinomial classification with SMOTE to help balance the dataset\n",
    "\n",
    "delayed = delayed_df.sample(n=100000, random_state=0)\n",
    "\n",
    "y = delayed['delay_code']\n",
    "X = delayed.drop(['delay_code','dep_delay','arr_delay','dep_delay_bin','arr_delay_bin','fl_date'],axis=1)\n",
    "\n",
    "# Standarize features\n",
    "scaler = StandardScaler()\n",
    "X_std = scaler.fit_transform(X)\n",
    "\n",
    "# split X and y into training and testing sets\n",
    "X_train,X_test,y_train,y_test=train_test_split(X_std,y,test_size=0.25,random_state=0)\n",
    "\n",
    "sm = SMOTE(random_state=0)\n",
    "X_train_res, y_train_res = sm.fit_sample(X_train, y_train.ravel())\n",
    "\n",
    "#instantiate logistic model\n",
    "MNLR = LogisticRegression(C=1,max_iter=3000,random_state=0, multi_class='multinomial')\n",
    "                  \n",
    "# fit training data\n",
    "MNLR.fit(X_train_res,y_train_res.ravel())\n",
    "\n",
    "# predict with test data\n",
    "y_pred_sm_MNLR = MNLR.predict(X_test)\n",
    "\n",
    "cnf_matrix_sm_MNLR = metrics.confusion_matrix(y_test, y_pred_sm_MNLR)\n",
    "print(cnf_matrix_sm_MNLR)\n",
    "\n",
    "print(\"Accuracy:\", accuracy_score(y_test, y_pred_sm_MNLR))"
   ]
  },
  {
   "cell_type": "code",
   "execution_count": 60,
   "metadata": {},
   "outputs": [
    {
     "data": {
      "text/plain": [
       "<AxesSubplot:>"
      ]
     },
     "execution_count": 60,
     "metadata": {},
     "output_type": "execute_result"
    },
    {
     "data": {
      "image/png": "[encoded data removed]",
      "text/plain": [
       "<Figure size 576x360 with 2 Axes>"
      ]
     },
     "metadata": {
      "needs_background": "light"
     },
     "output_type": "display_data"
    }
   ],
   "source": [
    "plt.figure(figsize=(8,5))\n",
    "sns.heatmap(cnf_matrix_sm_MNLR, annot=True, cmap='Greens',fmt='g')"
   ]
  },
  {
   "cell_type": "code",
   "execution_count": 74,
   "metadata": {},
   "outputs": [],
   "source": [
    "# XGboost for multinomial classification\n",
    "\n",
    "import xgboost as xgb"
   ]
  },
  {
   "cell_type": "code",
   "execution_count": 76,
   "metadata": {},
   "outputs": [],
   "source": [
    "dtrain = xgb.DMatrix(X_train, label=y_train)\n",
    "dtest = xgb.DMatrix(X_test, label=y_test)"
   ]
  },
  {
   "cell_type": "code",
   "execution_count": 98,
   "metadata": {},
   "outputs": [],
   "source": [
    "# instantiate XGBoost classifier\n",
    "xg_reg = xgb.XGBClassifier(objective ='multi:softmax', colsample_bytree = 0.3, learning_rate = 0.1,\n",
    "                max_depth = 5, alpha = 10, n_estimators = 10)"
   ]
  },
  {
   "cell_type": "code",
   "execution_count": 104,
   "metadata": {},
   "outputs": [],
   "source": [
    "# fit regressor and predict\n",
    "xg_reg.fit(X_train_res,y_train_res)\n",
    "preds = xg_reg.predict(X_test)"
   ]
  },
  {
   "cell_type": "code",
   "execution_count": 105,
   "metadata": {},
   "outputs": [
    {
     "name": "stdout",
     "output_type": "stream",
     "text": [
      "RMSE: 1.356628\n"
     ]
    }
   ],
   "source": [
    "# compute root mean square error\n",
    "rmse = np.sqrt(mean_squared_error(y_test, preds))\n",
    "print(\"RMSE: %f\" % (rmse))"
   ]
  },
  {
   "cell_type": "code",
   "execution_count": 106,
   "metadata": {},
   "outputs": [
    {
     "name": "stdout",
     "output_type": "stream",
     "text": [
      "Accuracy: 0.78408\n",
      "Recall: 0.5074077076881514\n",
      "Precision: 0.35481431183113893\n"
     ]
    }
   ],
   "source": [
    "print(\"Accuracy:\", accuracy_score(y_test, preds))\n",
    "print(\"Recall:\", recall_score(y_test, preds, average='macro'))\n",
    "print('Precision:', precision_score(y_test, preds, average='macro'))"
   ]
  },
  {
   "cell_type": "code",
   "execution_count": 107,
   "metadata": {},
   "outputs": [
    {
     "data": {
      "text/plain": [
       "<AxesSubplot:>"
      ]
     },
     "execution_count": 107,
     "metadata": {},
     "output_type": "execute_result"
    },
    {
     "data": {
      "image/png": "[encoded data removed]",
      "text/plain": [
       "<Figure size 576x360 with 2 Axes>"
      ]
     },
     "metadata": {
      "needs_background": "light"
     },
     "output_type": "display_data"
    }
   ],
   "source": [
    "cnf_matrix_xgb = metrics.confusion_matrix(y_test, preds)\n",
    "plt.figure(figsize=(8,5))\n",
    "sns.heatmap(cnf_matrix_xgb, annot=True, cmap='Greens',fmt='g')"
   ]
  },
  {
   "cell_type": "markdown",
   "metadata": {},
   "source": [
    "## Binary Classification"
   ]
  },
  {
   "cell_type": "markdown",
   "metadata": {},
   "source": [
    "The target variable is **CANCELLED**. The main problem here is going to be huge class imbalance. We have only very little cancelled flights with comparison to all flights. It is important to do the right sampling before training."
   ]
  },
  {
   "cell_type": "code",
   "execution_count": 64,
   "metadata": {},
   "outputs": [],
   "source": [
    "# split out X and y variables\n",
    "y = cancel['cancelled']\n",
    "X = cancel.drop(['cancelled','cancellation_code','fl_date'],axis=1)\n",
    "\n",
    "# split X and y into training and testing sets\n",
    "from sklearn.model_selection import train_test_split\n",
    "X_train,X_test,y_train,y_test=train_test_split(X,y,test_size=0.25,random_state=0)\n",
    "\n"
   ]
  },
  {
   "cell_type": "code",
   "execution_count": 65,
   "metadata": {},
   "outputs": [
    {
     "name": "stdout",
     "output_type": "stream",
     "text": [
      "ROC AUC Score: 0.7523018225657188\n"
     ]
    }
   ],
   "source": [
    "import sklearn.linear_model as lm\n",
    "from sklearn.metrics import roc_auc_score\n",
    "\n",
    "#instantiate logistic model\n",
    "LR = lm.LogisticRegression(max_iter=3000,random_state=0, solver='liblinear')\n",
    "\n",
    "# fit training data\n",
    "LR.fit(X_train,y_train)\n",
    "\n",
    "# predict with test data\n",
    "y_pred_LR = LR.predict_proba(X_test)\n",
    "\n",
    "# Keep only the positive class\n",
    "y_pred_LR = [p[1] for p in y_pred_LR]\n",
    "\n",
    "print('ROC AUC Score:', roc_auc_score(y_test, y_pred_LR))"
   ]
  },
  {
   "cell_type": "code",
   "execution_count": 119,
   "metadata": {},
   "outputs": [
    {
     "name": "stdout",
     "output_type": "stream",
     "text": [
      "Before OverSampling, counts of label '1': 1264\n",
      "Before OverSampling, counts of label '0': 73736 \n",
      "\n",
      "After OverSampling, the shape of train_X: (147472, 21)\n",
      "After OverSampling, the shape of train_y: (147472,) \n",
      "\n",
      "After OverSampling, counts of label '1': 73736\n",
      "After OverSampling, counts of label '0': 73736\n"
     ]
    }
   ],
   "source": [
    "# Using SMOTE to balance dataset\n",
    "\n",
    "\n",
    "print(\"Before OverSampling, counts of label '1': {}\".format(sum(y_train==1)))\n",
    "print(\"Before OverSampling, counts of label '0': {} \\n\".format(sum(y_train==0)))\n",
    "\n",
    "sm = SMOTE(random_state=0)\n",
    "X_train_res, y_train_res = sm.fit_sample(X_train, y_train.ravel())\n",
    "\n",
    "print('After OverSampling, the shape of train_X: {}'.format(X_train_res.shape))\n",
    "print('After OverSampling, the shape of train_y: {} \\n'.format(y_train_res.shape))\n",
    "\n",
    "print(\"After OverSampling, counts of label '1': {}\".format(sum(y_train_res==1)))\n",
    "print(\"After OverSampling, counts of label '0': {}\".format(sum(y_train_res==0)))"
   ]
  },
  {
   "cell_type": "code",
   "execution_count": 67,
   "metadata": {},
   "outputs": [],
   "source": [
    "X_train_res['crs_arr_binned'] = X_train_res['crs_arr_binned'].cat.add_categories('0')\n",
    "X_train_res['crs_arr_binned'].fillna('0',inplace=True)\n",
    "X_train_res['crs_drp_binned'] = X_train_res['crs_drp_binned'].cat.add_categories('0')\n",
    "X_train_res['crs_drp_binned'].fillna('0',inplace=True)\n",
    "X_train_res['dist_binned'] = X_train_res['dist_binned'].cat.add_categories('0')\n",
    "X_train_res['dist_binned'].fillna('0',inplace=True)"
   ]
  },
  {
   "cell_type": "code",
   "execution_count": 68,
   "metadata": {},
   "outputs": [
    {
     "data": {
      "text/plain": [
       "GridSearchCV(cv=5,\n",
       "             estimator=LogisticRegression(max_iter=3000, random_state=0,\n",
       "                                          solver='liblinear'),\n",
       "             n_jobs=3, param_grid={'C': [1, 5, 7, 9]})"
      ]
     },
     "execution_count": 68,
     "metadata": {},
     "output_type": "execute_result"
    }
   ],
   "source": [
    "from sklearn.model_selection import GridSearchCV\n",
    "from sklearn.linear_model import LogisticRegression\n",
    "from sklearn.metrics import confusion_matrix, precision_recall_curve, auc, roc_auc_score, roc_curve, recall_score, classification_report\n",
    "\n",
    "parameters = {\n",
    "    'C': [1,5,7,9]\n",
    "             }\n",
    "lr = LogisticRegression(max_iter=3000,random_state=0, solver='liblinear')\n",
    "clf = GridSearchCV(lr, parameters, cv=5, n_jobs=3)\n",
    "clf.fit(X_train_res, y_train_res.ravel())"
   ]
  },
  {
   "cell_type": "code",
   "execution_count": 69,
   "metadata": {},
   "outputs": [
    {
     "data": {
      "text/plain": [
       "{'C': 7}"
      ]
     },
     "execution_count": 69,
     "metadata": {},
     "output_type": "execute_result"
    }
   ],
   "source": [
    "# check best parameters\n",
    "clf.best_params_"
   ]
  },
  {
   "cell_type": "code",
   "execution_count": 70,
   "metadata": {},
   "outputs": [],
   "source": [
    "# use best parameter for logistic regression\n",
    "lr1 = LogisticRegression(C=7, max_iter=3000, solver='liblinear')\n",
    "lr1.fit(X_train_res, y_train_res.ravel())\n",
    "y_pred_sm_LR = lr1.predict(X_test)"
   ]
  },
  {
   "cell_type": "code",
   "execution_count": 71,
   "metadata": {},
   "outputs": [
    {
     "name": "stdout",
     "output_type": "stream",
     "text": [
      "[[22404  2189]\n",
      " [  294   113]]\n",
      "Accuracy: 0.90068\n",
      "Recall: 0.27764127764127766\n",
      "Precision: 0.04908774978279757\n"
     ]
    }
   ],
   "source": [
    "# create confusion matrix\n",
    "cnf_matrix_lr = metrics.confusion_matrix(y_test, y_pred_sm_LR)\n",
    "print(cnf_matrix_lr)\n",
    "\n",
    "# print accuracy, recall, precision stats\n",
    "print(\"Accuracy:\", accuracy_score(y_test, y_pred_sm_LR))\n",
    "print(\"Recall:\", recall_score(y_test, y_pred_sm_LR))\n",
    "print(\"Precision:\", precision_score(y_test, y_pred_sm_LR))"
   ]
  },
  {
   "cell_type": "code",
   "execution_count": 72,
   "metadata": {},
   "outputs": [
    {
     "data": {
      "text/plain": [
       "<AxesSubplot:>"
      ]
     },
     "execution_count": 72,
     "metadata": {},
     "output_type": "execute_result"
    },
    {
     "data": {
      "image/png": "[encoded data removed]",
      "text/plain": [
       "<Figure size 576x360 with 2 Axes>"
      ]
     },
     "metadata": {
      "needs_background": "light"
     },
     "output_type": "display_data"
    }
   ],
   "source": [
    "plt.figure(figsize=(8,5))\n",
    "sns.heatmap(cnf_matrix_lr, annot=True, cmap='Greens',fmt='g')"
   ]
  },
  {
   "cell_type": "markdown",
   "metadata": {},
   "source": [
    "### Using Random Forests for binary classification"
   ]
  },
  {
   "cell_type": "code",
   "execution_count": null,
   "metadata": {},
   "outputs": [],
   "source": []
  },
  {
   "cell_type": "code",
   "execution_count": 108,
   "metadata": {},
   "outputs": [],
   "source": [
    "# Use Random Forest Classifier for binary classification\n",
    "\n",
    "from sklearn.ensemble import RandomForestClassifier\n",
    "\n",
    "# instantiate the model (using the default parameters)\n",
    "RF = RandomForestClassifier(n_estimators=100, max_depth=3, random_state=0)\n",
    "\n",
    "# fit the model with data\n",
    "RF.fit(X_train,y_train)\n",
    "\n",
    "# predict using the fitted data\n",
    "y_pred_RF = RF.predict(X_test)\n",
    "\n"
   ]
  },
  {
   "cell_type": "code",
   "execution_count": 109,
   "metadata": {},
   "outputs": [
    {
     "data": {
      "text/plain": [
       "array([[19941,   207,     0,     0,     0,     0],\n",
       "       [ 1476,   792,     0,     0,     0,     0],\n",
       "       [  134,   172,     0,     0,     0,     0],\n",
       "       [ 1171,   414,     0,     0,     0,     0],\n",
       "       [    6,     1,     0,     0,     0,     0],\n",
       "       [  387,   299,     0,     0,     0,     0]])"
      ]
     },
     "execution_count": 109,
     "metadata": {},
     "output_type": "execute_result"
    }
   ],
   "source": [
    "# create confusion matrix\n",
    "from sklearn import metrics\n",
    "cnf_matrix = metrics.confusion_matrix(y_test, y_pred_RF)\n",
    "cnf_matrix"
   ]
  },
  {
   "cell_type": "code",
   "execution_count": 111,
   "metadata": {},
   "outputs": [
    {
     "name": "stdout",
     "output_type": "stream",
     "text": [
      "Accuracy: 0.82932\n",
      "Recall: 0.22315539610060156\n",
      "Precision: 0.21380761972630216\n"
     ]
    },
    {
     "name": "stderr",
     "output_type": "stream",
     "text": [
      "/Applications/anaconda3/lib/python3.7/site-packages/sklearn/metrics/_classification.py:1221: UndefinedMetricWarning: Precision is ill-defined and being set to 0.0 in labels with no predicted samples. Use `zero_division` parameter to control this behavior.\n",
      "  _warn_prf(average, modifier, msg_start, len(result))\n"
     ]
    }
   ],
   "source": [
    "# confusion matrix evaluation metrics\n",
    "\n",
    "print(\"Accuracy:\", accuracy_score(y_test, y_pred_RF))\n",
    "print(\"Recall:\", recall_score(y_test, y_pred_RF,average='macro'))\n",
    "print(\"Precision:\", precision_score(y_test, y_pred_RF,average='macro'))\n",
    "\n"
   ]
  },
  {
   "cell_type": "code",
   "execution_count": 125,
   "metadata": {},
   "outputs": [
    {
     "data": {
      "text/html": [
       "<div>\n",
       "<style scoped>\n",
       "    .dataframe tbody tr th:only-of-type {\n",
       "        vertical-align: middle;\n",
       "    }\n",
       "\n",
       "    .dataframe tbody tr th {\n",
       "        vertical-align: top;\n",
       "    }\n",
       "\n",
       "    .dataframe thead th {\n",
       "        text-align: right;\n",
       "    }\n",
       "</style>\n",
       "<table border=\"1\" class=\"dataframe\">\n",
       "  <thead>\n",
       "    <tr style=\"text-align: right;\">\n",
       "      <th></th>\n",
       "      <th>op_unique_carrier</th>\n",
       "      <th>cloud_cover</th>\n",
       "      <th>precipitation</th>\n",
       "      <th>snow_depth</th>\n",
       "      <th>snow_fall</th>\n",
       "      <th>wind_speed</th>\n",
       "      <th>crs_arr_binned</th>\n",
       "      <th>crs_drp_binned</th>\n",
       "      <th>month</th>\n",
       "      <th>day</th>\n",
       "      <th>...</th>\n",
       "      <th>car_avg_delay</th>\n",
       "      <th>origin_avg_delay</th>\n",
       "      <th>airport_dep_delay_moving_2</th>\n",
       "      <th>airport_dep_delay_moving_5</th>\n",
       "      <th>airport_arr_delay_moving_2</th>\n",
       "      <th>airport_arr_delay_moving_5</th>\n",
       "      <th>carrier_dep_delay_moving_2</th>\n",
       "      <th>carrier_dep_delay_moving_5</th>\n",
       "      <th>carrier_arr_delay_moving_2</th>\n",
       "      <th>carrier_arr_delay_moving_5</th>\n",
       "    </tr>\n",
       "  </thead>\n",
       "  <tbody>\n",
       "    <tr>\n",
       "      <th>2904465</th>\n",
       "      <td>23</td>\n",
       "      <td>0.49</td>\n",
       "      <td>0.00</td>\n",
       "      <td>0.0</td>\n",
       "      <td>0.0</td>\n",
       "      <td>2.7</td>\n",
       "      <td>3</td>\n",
       "      <td>3</td>\n",
       "      <td>3</td>\n",
       "      <td>8</td>\n",
       "      <td>...</td>\n",
       "      <td>10.419887</td>\n",
       "      <td>9.235837</td>\n",
       "      <td>-4.0</td>\n",
       "      <td>-3.20</td>\n",
       "      <td>2.0</td>\n",
       "      <td>-6.8</td>\n",
       "      <td>-4.0</td>\n",
       "      <td>-3.2</td>\n",
       "      <td>-6.0</td>\n",
       "      <td>-11.80</td>\n",
       "    </tr>\n",
       "    <tr>\n",
       "      <th>2256716</th>\n",
       "      <td>3</td>\n",
       "      <td>0.39</td>\n",
       "      <td>0.00</td>\n",
       "      <td>0.0</td>\n",
       "      <td>0.0</td>\n",
       "      <td>4.6</td>\n",
       "      <td>6</td>\n",
       "      <td>5</td>\n",
       "      <td>4</td>\n",
       "      <td>9</td>\n",
       "      <td>...</td>\n",
       "      <td>7.780214</td>\n",
       "      <td>8.643950</td>\n",
       "      <td>-4.0</td>\n",
       "      <td>5.00</td>\n",
       "      <td>0.0</td>\n",
       "      <td>0.0</td>\n",
       "      <td>-4.0</td>\n",
       "      <td>-5.0</td>\n",
       "      <td>-13.0</td>\n",
       "      <td>-21.60</td>\n",
       "    </tr>\n",
       "    <tr>\n",
       "      <th>7685534</th>\n",
       "      <td>3</td>\n",
       "      <td>0.10</td>\n",
       "      <td>0.00</td>\n",
       "      <td>0.0</td>\n",
       "      <td>0.0</td>\n",
       "      <td>5.4</td>\n",
       "      <td>4</td>\n",
       "      <td>3</td>\n",
       "      <td>3</td>\n",
       "      <td>8</td>\n",
       "      <td>...</td>\n",
       "      <td>7.780214</td>\n",
       "      <td>9.235837</td>\n",
       "      <td>-1.5</td>\n",
       "      <td>-0.40</td>\n",
       "      <td>-2.0</td>\n",
       "      <td>-6.4</td>\n",
       "      <td>-1.5</td>\n",
       "      <td>-0.4</td>\n",
       "      <td>1.0</td>\n",
       "      <td>-5.80</td>\n",
       "    </tr>\n",
       "    <tr>\n",
       "      <th>2419087</th>\n",
       "      <td>3</td>\n",
       "      <td>0.05</td>\n",
       "      <td>0.00</td>\n",
       "      <td>0.0</td>\n",
       "      <td>0.0</td>\n",
       "      <td>6.4</td>\n",
       "      <td>4</td>\n",
       "      <td>3</td>\n",
       "      <td>4</td>\n",
       "      <td>16</td>\n",
       "      <td>...</td>\n",
       "      <td>7.780214</td>\n",
       "      <td>13.155478</td>\n",
       "      <td>-5.5</td>\n",
       "      <td>-2.20</td>\n",
       "      <td>-12.5</td>\n",
       "      <td>-9.2</td>\n",
       "      <td>-5.5</td>\n",
       "      <td>-2.2</td>\n",
       "      <td>-12.5</td>\n",
       "      <td>-9.20</td>\n",
       "    </tr>\n",
       "    <tr>\n",
       "      <th>6879472</th>\n",
       "      <td>21</td>\n",
       "      <td>0.43</td>\n",
       "      <td>0.00</td>\n",
       "      <td>0.0</td>\n",
       "      <td>0.0</td>\n",
       "      <td>3.8</td>\n",
       "      <td>4</td>\n",
       "      <td>4</td>\n",
       "      <td>6</td>\n",
       "      <td>3</td>\n",
       "      <td>...</td>\n",
       "      <td>7.998840</td>\n",
       "      <td>13.778252</td>\n",
       "      <td>-0.5</td>\n",
       "      <td>-2.40</td>\n",
       "      <td>-7.5</td>\n",
       "      <td>-7.0</td>\n",
       "      <td>-0.5</td>\n",
       "      <td>-2.4</td>\n",
       "      <td>-16.0</td>\n",
       "      <td>-13.80</td>\n",
       "    </tr>\n",
       "    <tr>\n",
       "      <th>...</th>\n",
       "      <td>...</td>\n",
       "      <td>...</td>\n",
       "      <td>...</td>\n",
       "      <td>...</td>\n",
       "      <td>...</td>\n",
       "      <td>...</td>\n",
       "      <td>...</td>\n",
       "      <td>...</td>\n",
       "      <td>...</td>\n",
       "      <td>...</td>\n",
       "      <td>...</td>\n",
       "      <td>...</td>\n",
       "      <td>...</td>\n",
       "      <td>...</td>\n",
       "      <td>...</td>\n",
       "      <td>...</td>\n",
       "      <td>...</td>\n",
       "      <td>...</td>\n",
       "      <td>...</td>\n",
       "      <td>...</td>\n",
       "      <td>...</td>\n",
       "    </tr>\n",
       "    <tr>\n",
       "      <th>8199489</th>\n",
       "      <td>1</td>\n",
       "      <td>0.01</td>\n",
       "      <td>0.00</td>\n",
       "      <td>0.0</td>\n",
       "      <td>0.0</td>\n",
       "      <td>3.5</td>\n",
       "      <td>6</td>\n",
       "      <td>5</td>\n",
       "      <td>3</td>\n",
       "      <td>31</td>\n",
       "      <td>...</td>\n",
       "      <td>10.559512</td>\n",
       "      <td>9.235837</td>\n",
       "      <td>14.0</td>\n",
       "      <td>2.20</td>\n",
       "      <td>18.0</td>\n",
       "      <td>18.0</td>\n",
       "      <td>14.0</td>\n",
       "      <td>2.2</td>\n",
       "      <td>13.0</td>\n",
       "      <td>1.00</td>\n",
       "    </tr>\n",
       "    <tr>\n",
       "      <th>4881828</th>\n",
       "      <td>1</td>\n",
       "      <td>0.02</td>\n",
       "      <td>0.07</td>\n",
       "      <td>0.0</td>\n",
       "      <td>0.0</td>\n",
       "      <td>1.8</td>\n",
       "      <td>5</td>\n",
       "      <td>5</td>\n",
       "      <td>8</td>\n",
       "      <td>5</td>\n",
       "      <td>...</td>\n",
       "      <td>10.559512</td>\n",
       "      <td>9.235837</td>\n",
       "      <td>1.5</td>\n",
       "      <td>-2.00</td>\n",
       "      <td>0.0</td>\n",
       "      <td>0.0</td>\n",
       "      <td>1.5</td>\n",
       "      <td>-2.0</td>\n",
       "      <td>-6.0</td>\n",
       "      <td>-2.75</td>\n",
       "    </tr>\n",
       "    <tr>\n",
       "      <th>7971285</th>\n",
       "      <td>8</td>\n",
       "      <td>0.70</td>\n",
       "      <td>0.22</td>\n",
       "      <td>2.8</td>\n",
       "      <td>2.0</td>\n",
       "      <td>3.4</td>\n",
       "      <td>5</td>\n",
       "      <td>4</td>\n",
       "      <td>3</td>\n",
       "      <td>21</td>\n",
       "      <td>...</td>\n",
       "      <td>11.339147</td>\n",
       "      <td>11.729100</td>\n",
       "      <td>-2.0</td>\n",
       "      <td>10.50</td>\n",
       "      <td>6.0</td>\n",
       "      <td>15.2</td>\n",
       "      <td>-2.0</td>\n",
       "      <td>10.5</td>\n",
       "      <td>6.0</td>\n",
       "      <td>20.75</td>\n",
       "    </tr>\n",
       "    <tr>\n",
       "      <th>4727234</th>\n",
       "      <td>5</td>\n",
       "      <td>0.78</td>\n",
       "      <td>0.23</td>\n",
       "      <td>0.0</td>\n",
       "      <td>0.0</td>\n",
       "      <td>6.7</td>\n",
       "      <td>6</td>\n",
       "      <td>5</td>\n",
       "      <td>1</td>\n",
       "      <td>29</td>\n",
       "      <td>...</td>\n",
       "      <td>11.513411</td>\n",
       "      <td>8.600237</td>\n",
       "      <td>14.0</td>\n",
       "      <td>12.75</td>\n",
       "      <td>17.5</td>\n",
       "      <td>11.2</td>\n",
       "      <td>14.0</td>\n",
       "      <td>9.2</td>\n",
       "      <td>14.0</td>\n",
       "      <td>10.80</td>\n",
       "    </tr>\n",
       "    <tr>\n",
       "      <th>3594310</th>\n",
       "      <td>12</td>\n",
       "      <td>0.08</td>\n",
       "      <td>0.00</td>\n",
       "      <td>0.0</td>\n",
       "      <td>0.0</td>\n",
       "      <td>2.1</td>\n",
       "      <td>3</td>\n",
       "      <td>3</td>\n",
       "      <td>7</td>\n",
       "      <td>8</td>\n",
       "      <td>...</td>\n",
       "      <td>11.079946</td>\n",
       "      <td>10.597627</td>\n",
       "      <td>-1.5</td>\n",
       "      <td>-0.80</td>\n",
       "      <td>62.0</td>\n",
       "      <td>26.2</td>\n",
       "      <td>-1.5</td>\n",
       "      <td>-0.8</td>\n",
       "      <td>-5.5</td>\n",
       "      <td>8.20</td>\n",
       "    </tr>\n",
       "  </tbody>\n",
       "</table>\n",
       "<p>75000 rows × 21 columns</p>\n",
       "</div>"
      ],
      "text/plain": [
       "         op_unique_carrier  cloud_cover  precipitation  snow_depth  snow_fall  \\\n",
       "2904465                 23         0.49           0.00         0.0        0.0   \n",
       "2256716                  3         0.39           0.00         0.0        0.0   \n",
       "7685534                  3         0.10           0.00         0.0        0.0   \n",
       "2419087                  3         0.05           0.00         0.0        0.0   \n",
       "6879472                 21         0.43           0.00         0.0        0.0   \n",
       "...                    ...          ...            ...         ...        ...   \n",
       "8199489                  1         0.01           0.00         0.0        0.0   \n",
       "4881828                  1         0.02           0.07         0.0        0.0   \n",
       "7971285                  8         0.70           0.22         2.8        2.0   \n",
       "4727234                  5         0.78           0.23         0.0        0.0   \n",
       "3594310                 12         0.08           0.00         0.0        0.0   \n",
       "\n",
       "         wind_speed crs_arr_binned crs_drp_binned  month  day  ...  \\\n",
       "2904465         2.7              3              3      3    8  ...   \n",
       "2256716         4.6              6              5      4    9  ...   \n",
       "7685534         5.4              4              3      3    8  ...   \n",
       "2419087         6.4              4              3      4   16  ...   \n",
       "6879472         3.8              4              4      6    3  ...   \n",
       "...             ...            ...            ...    ...  ...  ...   \n",
       "8199489         3.5              6              5      3   31  ...   \n",
       "4881828         1.8              5              5      8    5  ...   \n",
       "7971285         3.4              5              4      3   21  ...   \n",
       "4727234         6.7              6              5      1   29  ...   \n",
       "3594310         2.1              3              3      7    8  ...   \n",
       "\n",
       "         car_avg_delay  origin_avg_delay  airport_dep_delay_moving_2  \\\n",
       "2904465      10.419887          9.235837                        -4.0   \n",
       "2256716       7.780214          8.643950                        -4.0   \n",
       "7685534       7.780214          9.235837                        -1.5   \n",
       "2419087       7.780214         13.155478                        -5.5   \n",
       "6879472       7.998840         13.778252                        -0.5   \n",
       "...                ...               ...                         ...   \n",
       "8199489      10.559512          9.235837                        14.0   \n",
       "4881828      10.559512          9.235837                         1.5   \n",
       "7971285      11.339147         11.729100                        -2.0   \n",
       "4727234      11.513411          8.600237                        14.0   \n",
       "3594310      11.079946         10.597627                        -1.5   \n",
       "\n",
       "         airport_dep_delay_moving_5  airport_arr_delay_moving_2  \\\n",
       "2904465                       -3.20                         2.0   \n",
       "2256716                        5.00                         0.0   \n",
       "7685534                       -0.40                        -2.0   \n",
       "2419087                       -2.20                       -12.5   \n",
       "6879472                       -2.40                        -7.5   \n",
       "...                             ...                         ...   \n",
       "8199489                        2.20                        18.0   \n",
       "4881828                       -2.00                         0.0   \n",
       "7971285                       10.50                         6.0   \n",
       "4727234                       12.75                        17.5   \n",
       "3594310                       -0.80                        62.0   \n",
       "\n",
       "         airport_arr_delay_moving_5  carrier_dep_delay_moving_2  \\\n",
       "2904465                        -6.8                        -4.0   \n",
       "2256716                         0.0                        -4.0   \n",
       "7685534                        -6.4                        -1.5   \n",
       "2419087                        -9.2                        -5.5   \n",
       "6879472                        -7.0                        -0.5   \n",
       "...                             ...                         ...   \n",
       "8199489                        18.0                        14.0   \n",
       "4881828                         0.0                         1.5   \n",
       "7971285                        15.2                        -2.0   \n",
       "4727234                        11.2                        14.0   \n",
       "3594310                        26.2                        -1.5   \n",
       "\n",
       "         carrier_dep_delay_moving_5  carrier_arr_delay_moving_2  \\\n",
       "2904465                        -3.2                        -6.0   \n",
       "2256716                        -5.0                       -13.0   \n",
       "7685534                        -0.4                         1.0   \n",
       "2419087                        -2.2                       -12.5   \n",
       "6879472                        -2.4                       -16.0   \n",
       "...                             ...                         ...   \n",
       "8199489                         2.2                        13.0   \n",
       "4881828                        -2.0                        -6.0   \n",
       "7971285                        10.5                         6.0   \n",
       "4727234                         9.2                        14.0   \n",
       "3594310                        -0.8                        -5.5   \n",
       "\n",
       "         carrier_arr_delay_moving_5  \n",
       "2904465                      -11.80  \n",
       "2256716                      -21.60  \n",
       "7685534                       -5.80  \n",
       "2419087                       -9.20  \n",
       "6879472                      -13.80  \n",
       "...                             ...  \n",
       "8199489                        1.00  \n",
       "4881828                       -2.75  \n",
       "7971285                       20.75  \n",
       "4727234                       10.80  \n",
       "3594310                        8.20  \n",
       "\n",
       "[75000 rows x 21 columns]"
      ]
     },
     "execution_count": 125,
     "metadata": {},
     "output_type": "execute_result"
    }
   ],
   "source": [
    "X_train"
   ]
  },
  {
   "cell_type": "code",
   "execution_count": 124,
   "metadata": {},
   "outputs": [
    {
     "data": {
      "text/plain": [
       "RandomForestClassifier(max_depth=3, random_state=0)"
      ]
     },
     "execution_count": 124,
     "metadata": {},
     "output_type": "execute_result"
    }
   ],
   "source": [
    "RF"
   ]
  },
  {
   "cell_type": "code",
   "execution_count": 126,
   "metadata": {},
   "outputs": [
    {
     "ename": "ValueError",
     "evalue": "Length of passed values is 28, index implies 21.",
     "output_type": "error",
     "traceback": [
      "\u001b[0;31m---------------------------------------------------------------------------\u001b[0m",
      "\u001b[0;31mValueError\u001b[0m                                Traceback (most recent call last)",
      "\u001b[0;32m<ipython-input-126-c7083cbc7d46>\u001b[0m in \u001b[0;36m<module>\u001b[0;34m\u001b[0m\n\u001b[0;32m----> 1\u001b[0;31m \u001b[0mfeature_imp\u001b[0m \u001b[0;34m=\u001b[0m \u001b[0mpd\u001b[0m\u001b[0;34m.\u001b[0m\u001b[0mSeries\u001b[0m\u001b[0;34m(\u001b[0m\u001b[0mRF\u001b[0m\u001b[0;34m.\u001b[0m\u001b[0mfeature_importances_\u001b[0m\u001b[0;34m,\u001b[0m \u001b[0mindex\u001b[0m\u001b[0;34m=\u001b[0m\u001b[0mX_train\u001b[0m\u001b[0;34m.\u001b[0m\u001b[0mcolumns\u001b[0m\u001b[0;34m)\u001b[0m\u001b[0;34m.\u001b[0m\u001b[0msort_values\u001b[0m\u001b[0;34m(\u001b[0m\u001b[0mascending\u001b[0m\u001b[0;34m=\u001b[0m\u001b[0;32mFalse\u001b[0m\u001b[0;34m)\u001b[0m\u001b[0;34m\u001b[0m\u001b[0;34m\u001b[0m\u001b[0m\n\u001b[0m\u001b[1;32m      2\u001b[0m \u001b[0mfeature_imp\u001b[0m\u001b[0;34m\u001b[0m\u001b[0;34m\u001b[0m\u001b[0m\n",
      "\u001b[0;32m/Applications/anaconda3/lib/python3.7/site-packages/pandas/core/series.py\u001b[0m in \u001b[0;36m__init__\u001b[0;34m(self, data, index, dtype, name, copy, fastpath)\u001b[0m\n\u001b[1;32m    290\u001b[0m                     \u001b[0;32mif\u001b[0m \u001b[0mlen\u001b[0m\u001b[0;34m(\u001b[0m\u001b[0mindex\u001b[0m\u001b[0;34m)\u001b[0m \u001b[0;34m!=\u001b[0m \u001b[0mlen\u001b[0m\u001b[0;34m(\u001b[0m\u001b[0mdata\u001b[0m\u001b[0;34m)\u001b[0m\u001b[0;34m:\u001b[0m\u001b[0;34m\u001b[0m\u001b[0;34m\u001b[0m\u001b[0m\n\u001b[1;32m    291\u001b[0m                         raise ValueError(\n\u001b[0;32m--> 292\u001b[0;31m                             \u001b[0;34mf\"Length of passed values is {len(data)}, \"\u001b[0m\u001b[0;34m\u001b[0m\u001b[0;34m\u001b[0m\u001b[0m\n\u001b[0m\u001b[1;32m    293\u001b[0m                             \u001b[0;34mf\"index implies {len(index)}.\"\u001b[0m\u001b[0;34m\u001b[0m\u001b[0;34m\u001b[0m\u001b[0m\n\u001b[1;32m    294\u001b[0m                         )\n",
      "\u001b[0;31mValueError\u001b[0m: Length of passed values is 28, index implies 21."
     ]
    }
   ],
   "source": [
    "feature_imp = pd.Series(RF.feature_importances_, index=X_train.columns).sort_values(ascending=False)\n",
    "feature_imp"
   ]
  },
  {
   "cell_type": "code",
   "execution_count": 113,
   "metadata": {},
   "outputs": [],
   "source": [
    "# try again after eliminating worst features\n",
    "cancel_new = cancel.drop(['dest_airport_id','diverted',\n",
    "                         'flights','year','dist_binned',\n",
    "                         'dest_avg_delay','origin_airport_id',\n",
    "                         'day_of_week'], axis=1)"
   ]
  },
  {
   "cell_type": "code",
   "execution_count": 114,
   "metadata": {},
   "outputs": [
    {
     "name": "stdout",
     "output_type": "stream",
     "text": [
      "[[24592     1]\n",
      " [  348    59]]\n",
      "Accuracy: 0.98604\n",
      "Recall: 0.14496314496314497\n",
      "Precision: 0.9833333333333333\n"
     ]
    }
   ],
   "source": [
    "# split out X and y variables\n",
    "y = cancel_new['cancelled']\n",
    "X = cancel_new.drop(['cancelled','cancellation_code','fl_date'],axis=1)\n",
    "\n",
    "# split X and y into training and testing sets\n",
    "X_train,X_test,y_train,y_test=train_test_split(X,y,test_size=0.25,random_state=0)\n",
    "\n",
    "# istantiate, fit and predict model\n",
    "RF1 = RandomForestClassifier(n_estimators=100, max_depth=60, random_state=0, min_samples_leaf=1,min_samples_split=2)\n",
    "RF1.fit(X_train,y_train)\n",
    "y_pred_RF1 = RF1.predict(X_test)\n",
    "\n",
    "cnf_matrix1 = metrics.confusion_matrix(y_test, y_pred_RF1)\n",
    "print(cnf_matrix1)\n",
    "\n",
    "print(\"Accuracy:\", accuracy_score(y_test, y_pred_RF1))\n",
    "print(\"Recall:\", recall_score(y_test, y_pred_RF1))\n",
    "print(\"Precision:\", precision_score(y_test, y_pred_RF1))"
   ]
  },
  {
   "cell_type": "code",
   "execution_count": 127,
   "metadata": {},
   "outputs": [
    {
     "data": {
      "text/plain": [
       "carrier_arr_delay_moving_2    0.083656\n",
       "airport_arr_delay_moving_2    0.082749\n",
       "airport_arr_delay_moving_5    0.075703\n",
       "carrier_dep_delay_moving_2    0.073038\n",
       "airport_dep_delay_moving_2    0.070797\n",
       "carrier_arr_delay_moving_5    0.069124\n",
       "airport_dep_delay_moving_5    0.062558\n",
       "carrier_dep_delay_moving_5    0.061964\n",
       "wind_speed                    0.054860\n",
       "origin_avg_delay              0.046816\n",
       "cloud_cover                   0.044582\n",
       "precipitation                 0.044152\n",
       "day                           0.039691\n",
       "month                         0.027062\n",
       "passengers_y                  0.026699\n",
       "op_unique_carrier             0.025443\n",
       "car_avg_delay                 0.024901\n",
       "crs_drp_binned                0.023204\n",
       "crs_arr_binned                0.022247\n",
       "snow_fall                     0.020789\n",
       "snow_depth                    0.019967\n",
       "dtype: float64"
      ]
     },
     "execution_count": 127,
     "metadata": {},
     "output_type": "execute_result"
    }
   ],
   "source": [
    "feature_imp = pd.Series(RF1.feature_importances_, index=X_train.columns).sort_values(ascending=False)\n",
    "feature_imp"
   ]
  },
  {
   "cell_type": "code",
   "execution_count": 21,
   "metadata": {},
   "outputs": [
    {
     "data": {
      "text/plain": [
       "{'max_depth': 30,\n",
       " 'min_samples_leaf': 1,\n",
       " 'min_samples_split': 2,\n",
       " 'n_estimators': 100}"
      ]
     },
     "execution_count": 21,
     "metadata": {},
     "output_type": "execute_result"
    }
   ],
   "source": [
    "# grid search to improve parameters\n",
    "\n",
    "parameters_RF = {\n",
    "    'n_estimators': [50,100],\n",
    "    'max_depth':[10,30],\n",
    "    'min_samples_leaf': [1, 4],\n",
    "    'min_samples_split': [2, 10],\n",
    "             }\n",
    "RF = RandomForestClassifier()\n",
    "RF_clf = GridSearchCV(estimator=RF, param_grid=parameters_RF, cv=5, n_jobs=-1)\n",
    "RF_clf.fit(X_train, y_train)\n",
    "\n",
    "RF_clf.best_params_\n"
   ]
  },
  {
   "cell_type": "code",
   "execution_count": 22,
   "metadata": {},
   "outputs": [],
   "source": [
    "# use SMOTE then do random forests\n",
    "\n",
    "# split out X and y variables\n",
    "y = cancel_new['cancelled']\n",
    "X = cancel_new.drop(['cancelled','cancellation_code','fl_date'],axis=1)\n",
    "\n",
    "# split X and y into training and testing sets and smote it\n",
    "X_train,X_test,y_train,y_test=train_test_split(X,y,test_size=0.25,random_state=0)\n",
    "sm = SMOTE(random_state=0)\n",
    "X_train_res, y_train_res = sm.fit_sample(X_train, y_train.ravel())\n",
    "\n",
    "# fix nan values that somehow form after smoting\n",
    "X_train_res['crs_arr_binned'] = X_train_res['crs_arr_binned'].cat.add_categories('0')\n",
    "X_train_res['crs_arr_binned'].fillna('0',inplace=True)\n",
    "X_train_res['crs_drp_binned'] = X_train_res['crs_drp_binned'].cat.add_categories('0')\n",
    "X_train_res['crs_drp_binned'].fillna('0',inplace=True)\n"
   ]
  },
  {
   "cell_type": "code",
   "execution_count": 23,
   "metadata": {},
   "outputs": [
    {
     "name": "stdout",
     "output_type": "stream",
     "text": [
      "[[24583    10]\n",
      " [  363    44]]\n",
      "Accuracy: 0.98508\n",
      "Recall: 0.10810810810810811\n",
      "Precision: 0.8148148148148148\n"
     ]
    }
   ],
   "source": [
    "# istantiate, fit and predict model\n",
    "RF2 = RandomForestClassifier(n_estimators=100, max_depth=60, random_state=0, min_samples_leaf=1,min_samples_split=2)\n",
    "RF2.fit(X_train_res,y_train_res.ravel())\n",
    "y_pred_RF2 = RF2.predict(X_test)\n",
    "\n",
    "cnf_matrix2 = metrics.confusion_matrix(y_test, y_pred_RF2)\n",
    "print(cnf_matrix2)\n",
    "\n",
    "print(\"Accuracy:\", accuracy_score(y_test, y_pred_RF2))\n",
    "print(\"Recall:\", recall_score(y_test, y_pred_RF2))\n",
    "print(\"Precision:\", precision_score(y_test, y_pred_RF2))"
   ]
  },
  {
   "cell_type": "code",
   "execution_count": 73,
   "metadata": {},
   "outputs": [
    {
     "data": {
      "text/plain": [
       "<AxesSubplot:>"
      ]
     },
     "execution_count": 73,
     "metadata": {},
     "output_type": "execute_result"
    },
    {
     "data": {
      "image/png": "[encoded data removed]",
      "text/plain": [
       "<Figure size 576x360 with 2 Axes>"
      ]
     },
     "metadata": {
      "needs_background": "light"
     },
     "output_type": "display_data"
    }
   ],
   "source": [
    "plt.figure(figsize=(8,5))\n",
    "sns.heatmap(cnf_matrix2, annot=True, cmap='Greens',fmt='g')"
   ]
  },
  {
   "cell_type": "code",
   "execution_count": 128,
   "metadata": {},
   "outputs": [
    {
     "data": {
      "text/plain": [
       "crs_drp_binned                0.349191\n",
       "crs_arr_binned                0.305476\n",
       "precipitation                 0.063743\n",
       "snow_depth                    0.025468\n",
       "snow_fall                     0.022324\n",
       "cloud_cover                   0.021162\n",
       "airport_arr_delay_moving_5    0.021154\n",
       "airport_arr_delay_moving_2    0.018810\n",
       "month                         0.018783\n",
       "carrier_arr_delay_moving_5    0.017940\n",
       "carrier_arr_delay_moving_2    0.016180\n",
       "origin_avg_delay              0.015993\n",
       "carrier_dep_delay_moving_2    0.015372\n",
       "airport_dep_delay_moving_2    0.015078\n",
       "airport_dep_delay_moving_5    0.013666\n",
       "carrier_dep_delay_moving_5    0.012246\n",
       "passengers_y                  0.011018\n",
       "car_avg_delay                 0.010374\n",
       "wind_speed                    0.009726\n",
       "day                           0.008466\n",
       "op_unique_carrier             0.007829\n",
       "dtype: float64"
      ]
     },
     "execution_count": 128,
     "metadata": {},
     "output_type": "execute_result"
    }
   ],
   "source": [
    "feature_imp = pd.Series(RF2.feature_importances_, index=X_train_res.columns).sort_values(ascending=False)\n",
    "feature_imp"
   ]
  },
  {
   "cell_type": "markdown",
   "metadata": {},
   "source": [
    "## Feature Engineering"
   ]
  },
  {
   "cell_type": "markdown",
   "metadata": {},
   "source": [
    "Feature engineering will play a crucial role in this problems. We have only very little attributes so we need to create some features that will have some predictive power.\n",
    "\n",
    "- weather: let's use the weather API we know about to look for the weather in time of the scheduled departure and scheduled arrival.\n",
    "- statistics (avg, mean, median, std, min, max...): we can take a look at a last of couple of delays and compute these statistics\n",
    "- airports encoding: we need to think about what to do with the airports and other categorical variables\n",
    "- time of the day: the delay probably depends on the airport traffic which varies during the day.\n",
    "- unsupervised learning as feature engineering?\n",
    "- **what are the additional options?**: Think about what we could do more to improve the model."
   ]
  },
  {
   "cell_type": "code",
   "execution_count": null,
   "metadata": {},
   "outputs": [],
   "source": []
  },
  {
   "cell_type": "code",
   "execution_count": null,
   "metadata": {},
   "outputs": [],
   "source": []
  },
  {
   "cell_type": "code",
   "execution_count": null,
   "metadata": {},
   "outputs": [],
   "source": []
  },
  {
   "cell_type": "markdown",
   "metadata": {},
   "source": [
    "## Feature Selection / Dimensionality Reduction"
   ]
  },
  {
   "cell_type": "markdown",
   "metadata": {},
   "source": [
    "We need to apply different selection techniques to find out which one will be the best for our problems.\n",
    "\n",
    "- Original Features vs. PCA conponents?"
   ]
  },
  {
   "cell_type": "code",
   "execution_count": 24,
   "metadata": {},
   "outputs": [],
   "source": [
    "from sklearn.decomposition import PCA\n",
    "from sklearn.discriminant_analysis import LinearDiscriminantAnalysis as LDA\n",
    "from sklearn.metrics import silhouette_score"
   ]
  },
  {
   "cell_type": "code",
   "execution_count": 26,
   "metadata": {},
   "outputs": [],
   "source": [
    "d_sample = delayed_df.sample(n=100000)\n",
    "c_sample = cancel_df.sample(n=100000)\n",
    "\n",
    "d_sample = d_sample.drop(['fl_date'], axis=1)\n",
    "c_sample = c_sample.drop(['fl_date'], axis=1)\n",
    "\n",
    "pca_del = PCA().fit_transform(d_sample)\n",
    "pca_canc = PCA().fit_transform(c_sample)\n",
    "\n",
    "delay_evr = PCA().fit(d_sample).explained_variance_ratio_\n",
    "cancel_evr = PCA().fit(c_sample).explained_variance_ratio_"
   ]
  },
  {
   "cell_type": "code",
   "execution_count": 27,
   "metadata": {},
   "outputs": [
    {
     "data": {
      "image/png": "[encoded data removed]",
      "text/plain": [
       "<Figure size 432x288 with 1 Axes>"
      ]
     },
     "metadata": {
      "needs_background": "light"
     },
     "output_type": "display_data"
    }
   ],
   "source": [
    "# create cumulative explained variance ratio plot to evaluate appropriate n_components\n",
    "\n",
    "plt.figure(figsize=(6,4))\n",
    "plt.plot(range(1,pca_del.shape[1]+1),delay_evr.cumsum(), marker = 'o', label='Delay')\n",
    "plt.plot(range(1,pca_canc.shape[1]+1),cancel_evr.cumsum(), marker = 'o', label ='Cancel')\n",
    "plt.legend()\n",
    "plt.show()"
   ]
  },
  {
   "cell_type": "markdown",
   "metadata": {},
   "source": [
    "### Both dataframes would be good candidates to reduce data to first two principal components"
   ]
  },
  {
   "cell_type": "code",
   "execution_count": 31,
   "metadata": {},
   "outputs": [
    {
     "data": {
      "image/png": "[encoded data removed]",
      "text/plain": [
       "<Figure size 432x432 with 1 Axes>"
      ]
     },
     "metadata": {
      "needs_background": "light"
     },
     "output_type": "display_data"
    }
   ],
   "source": [
    "# create elbow plot to evaluate appropriate number of clusters\n",
    "\n",
    "ks_del = range(1, 10)\n",
    "inertias_del = []\n",
    "for k in ks_del:\n",
    "    model = KMeans(n_clusters=k)\n",
    "    model.fit(d_sample)\n",
    "    inertias_del.append(model.inertia_)\n",
    "\n",
    "ks_canc = range(1, 10)\n",
    "inertias_canc = []\n",
    "for k in ks_canc:\n",
    "    model = KMeans(n_clusters=k)\n",
    "    model.fit(c_sample)\n",
    "    inertias_canc.append(model.inertia_)\n",
    "\n",
    "plt.figure(figsize=(6,6))    \n",
    "    \n",
    "plt.plot(ks_del, inertias_del, '-o', label='Delayed DF')\n",
    "plt.plot(ks_canc, inertias_canc, '-o', label='Cancelled DF')\n",
    "\n",
    "plt.xlabel('number of clusters, k')\n",
    "plt.ylabel('inertia')\n",
    "plt.show()"
   ]
  },
  {
   "cell_type": "code",
   "execution_count": 32,
   "metadata": {},
   "outputs": [
    {
     "data": {
      "image/png": "[encoded data removed]",
      "text/plain": [
       "<Figure size 1080x360 with 2 Axes>"
      ]
     },
     "metadata": {
      "needs_background": "light"
     },
     "output_type": "display_data"
    }
   ],
   "source": [
    "# does kmeans clustering do something??\n",
    "\n",
    "from sklearn.cluster import KMeans\n",
    "kmeans = KMeans(n_clusters=4, random_state=123)\n",
    "\n",
    "y_del = kmeans.fit_predict(d_sample)\n",
    "y_canc = kmeans.fit_predict(c_sample)\n",
    "\n",
    "# plot kmeans clusters\n",
    "fig, (ax1, ax2) = plt.subplots(1, 2,figsize=(15,5))\n",
    "   \n",
    "ax1.scatter(pca_del[:, 0], pca_del[:, 1], c=y_del)\n",
    "ax1.set_title('Delayed DF')\n",
    "ax2.scatter(pca_canc[:, 0], pca_canc[:, 1], c=y_canc)\n",
    "ax2.set_title('Cancelled DF')\n",
    "\n",
    "plt.show()"
   ]
  },
  {
   "cell_type": "markdown",
   "metadata": {},
   "source": [
    "## Modeling"
   ]
  },
  {
   "cell_type": "markdown",
   "metadata": {},
   "source": [
    "Use different ML techniques to predict each problem.\n",
    "\n",
    "- linear / logistic / multinomial logistic regression\n",
    "- Naive Bayes\n",
    "- Random Forest\n",
    "- SVM\n",
    "- XGBoost\n",
    "- The ensemble of your own choice"
   ]
  },
  {
   "cell_type": "code",
   "execution_count": null,
   "metadata": {},
   "outputs": [],
   "source": []
  },
  {
   "cell_type": "code",
   "execution_count": null,
   "metadata": {},
   "outputs": [],
   "source": []
  },
  {
   "cell_type": "markdown",
   "metadata": {},
   "source": [
    "## Evaluation"
   ]
  },
  {
   "cell_type": "markdown",
   "metadata": {},
   "source": [
    "You have data from 2018 and 2019 to develop model that is as good as possible. Use different evaluation metrics for each problem and compare the performance of different models.\n",
    "\n",
    "Final evaluation will be done on data from January 2020 to compare the results from different teams on out of sample data."
   ]
  },
  {
   "cell_type": "code",
   "execution_count": null,
   "metadata": {},
   "outputs": [],
   "source": []
  }
 ],
 "metadata": {
  "kernelspec": {
   "display_name": "Python 3",
   "language": "python",
   "name": "python3"
  },
  "language_info": {
   "codemirror_mode": {
    "name": "ipython",
    "version": 3
   },
   "file_extension": ".py",
   "mimetype": "text/x-python",
   "name": "python",
   "nbconvert_exporter": "python",
   "pygments_lexer": "ipython3",
   "version": "3.7.6"
  }
 },
 "nbformat": 4,
 "nbformat_minor": 4
}
